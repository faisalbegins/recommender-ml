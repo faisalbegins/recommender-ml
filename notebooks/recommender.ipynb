{
 "cells": [
  {
   "cell_type": "markdown",
   "source": [
    "### Exploratory Data Analysis"
   ],
   "metadata": {
    "collapsed": false,
    "pycharm": {
     "name": "#%% md\n"
    }
   }
  },
  {
   "cell_type": "markdown",
   "source": [
    "### Load data for processing"
   ],
   "metadata": {
    "collapsed": false,
    "pycharm": {
     "name": "#%% md\n"
    }
   }
  },
  {
   "cell_type": "code",
   "execution_count": 1,
   "outputs": [],
   "source": [
    "# read two data files\n",
    "import pandas as pd\n",
    "import numpy as np\n",
    "credits_df = pd.read_csv('/Users/Faisal/Development/recommender-storage/data/tmdb_credits.csv')\n",
    "movies_df = pd.read_csv('/Users/Faisal/Development/recommender-storage/data/tmdb_movies.csv')"
   ],
   "metadata": {
    "collapsed": false,
    "pycharm": {
     "name": "#%%\n"
    }
   }
  },
  {
   "cell_type": "code",
   "execution_count": 2,
   "outputs": [
    {
     "data": {
      "text/plain": "   movie_id                                     title  \\\n0     19995                                    Avatar   \n1       285  Pirates of the Caribbean: At World's End   \n2    206647                                   Spectre   \n3     49026                     The Dark Knight Rises   \n4     49529                               John Carter   \n\n                                                cast  \\\n0  [{\"cast_id\": 242, \"character\": \"Jake Sully\", \"...   \n1  [{\"cast_id\": 4, \"character\": \"Captain Jack Spa...   \n2  [{\"cast_id\": 1, \"character\": \"James Bond\", \"cr...   \n3  [{\"cast_id\": 2, \"character\": \"Bruce Wayne / Ba...   \n4  [{\"cast_id\": 5, \"character\": \"John Carter\", \"c...   \n\n                                                crew  \n0  [{\"credit_id\": \"52fe48009251416c750aca23\", \"de...  \n1  [{\"credit_id\": \"52fe4232c3a36847f800b579\", \"de...  \n2  [{\"credit_id\": \"54805967c3a36829b5002c41\", \"de...  \n3  [{\"credit_id\": \"52fe4781c3a36847f81398c3\", \"de...  \n4  [{\"credit_id\": \"52fe479ac3a36847f813eaa3\", \"de...  ",
      "text/html": "<div>\n<style scoped>\n    .dataframe tbody tr th:only-of-type {\n        vertical-align: middle;\n    }\n\n    .dataframe tbody tr th {\n        vertical-align: top;\n    }\n\n    .dataframe thead th {\n        text-align: right;\n    }\n</style>\n<table border=\"1\" class=\"dataframe\">\n  <thead>\n    <tr style=\"text-align: right;\">\n      <th></th>\n      <th>movie_id</th>\n      <th>title</th>\n      <th>cast</th>\n      <th>crew</th>\n    </tr>\n  </thead>\n  <tbody>\n    <tr>\n      <th>0</th>\n      <td>19995</td>\n      <td>Avatar</td>\n      <td>[{\"cast_id\": 242, \"character\": \"Jake Sully\", \"...</td>\n      <td>[{\"credit_id\": \"52fe48009251416c750aca23\", \"de...</td>\n    </tr>\n    <tr>\n      <th>1</th>\n      <td>285</td>\n      <td>Pirates of the Caribbean: At World's End</td>\n      <td>[{\"cast_id\": 4, \"character\": \"Captain Jack Spa...</td>\n      <td>[{\"credit_id\": \"52fe4232c3a36847f800b579\", \"de...</td>\n    </tr>\n    <tr>\n      <th>2</th>\n      <td>206647</td>\n      <td>Spectre</td>\n      <td>[{\"cast_id\": 1, \"character\": \"James Bond\", \"cr...</td>\n      <td>[{\"credit_id\": \"54805967c3a36829b5002c41\", \"de...</td>\n    </tr>\n    <tr>\n      <th>3</th>\n      <td>49026</td>\n      <td>The Dark Knight Rises</td>\n      <td>[{\"cast_id\": 2, \"character\": \"Bruce Wayne / Ba...</td>\n      <td>[{\"credit_id\": \"52fe4781c3a36847f81398c3\", \"de...</td>\n    </tr>\n    <tr>\n      <th>4</th>\n      <td>49529</td>\n      <td>John Carter</td>\n      <td>[{\"cast_id\": 5, \"character\": \"John Carter\", \"c...</td>\n      <td>[{\"credit_id\": \"52fe479ac3a36847f813eaa3\", \"de...</td>\n    </tr>\n  </tbody>\n</table>\n</div>"
     },
     "execution_count": 2,
     "metadata": {},
     "output_type": "execute_result"
    }
   ],
   "source": [
    "# check credits dataset\n",
    "credits_df.head(5)"
   ],
   "metadata": {
    "collapsed": false,
    "pycharm": {
     "name": "#%%\n"
    }
   }
  },
  {
   "cell_type": "code",
   "execution_count": 3,
   "outputs": [
    {
     "data": {
      "text/plain": "      budget                                             genres  \\\n0  237000000  [{\"id\": 28, \"name\": \"Action\"}, {\"id\": 12, \"nam...   \n1  300000000  [{\"id\": 12, \"name\": \"Adventure\"}, {\"id\": 14, \"...   \n2  245000000  [{\"id\": 28, \"name\": \"Action\"}, {\"id\": 12, \"nam...   \n3  250000000  [{\"id\": 28, \"name\": \"Action\"}, {\"id\": 80, \"nam...   \n4  260000000  [{\"id\": 28, \"name\": \"Action\"}, {\"id\": 12, \"nam...   \n\n                                       homepage      id  \\\n0                   http://www.avatarmovie.com/   19995   \n1  http://disney.go.com/disneypictures/pirates/     285   \n2   http://www.sonypictures.com/movies/spectre/  206647   \n3            http://www.thedarkknightrises.com/   49026   \n4          http://movies.disney.com/john-carter   49529   \n\n                                            keywords original_language  \\\n0  [{\"id\": 1463, \"name\": \"culture clash\"}, {\"id\":...                en   \n1  [{\"id\": 270, \"name\": \"ocean\"}, {\"id\": 726, \"na...                en   \n2  [{\"id\": 470, \"name\": \"spy\"}, {\"id\": 818, \"name...                en   \n3  [{\"id\": 849, \"name\": \"dc comics\"}, {\"id\": 853,...                en   \n4  [{\"id\": 818, \"name\": \"based on novel\"}, {\"id\":...                en   \n\n                             original_title  \\\n0                                    Avatar   \n1  Pirates of the Caribbean: At World's End   \n2                                   Spectre   \n3                     The Dark Knight Rises   \n4                               John Carter   \n\n                                            overview  popularity  \\\n0  In the 22nd century, a paraplegic Marine is di...  150.437577   \n1  Captain Barbossa, long believed to be dead, ha...  139.082615   \n2  A cryptic message from Bond’s past sends him o...  107.376788   \n3  Following the death of District Attorney Harve...  112.312950   \n4  John Carter is a war-weary, former military ca...   43.926995   \n\n                                production_companies  \\\n0  [{\"name\": \"Ingenious Film Partners\", \"id\": 289...   \n1  [{\"name\": \"Walt Disney Pictures\", \"id\": 2}, {\"...   \n2  [{\"name\": \"Columbia Pictures\", \"id\": 5}, {\"nam...   \n3  [{\"name\": \"Legendary Pictures\", \"id\": 923}, {\"...   \n4        [{\"name\": \"Walt Disney Pictures\", \"id\": 2}]   \n\n                                production_countries release_date     revenue  \\\n0  [{\"iso_3166_1\": \"US\", \"name\": \"United States o...   2009-12-10  2787965087   \n1  [{\"iso_3166_1\": \"US\", \"name\": \"United States o...   2007-05-19   961000000   \n2  [{\"iso_3166_1\": \"GB\", \"name\": \"United Kingdom\"...   2015-10-26   880674609   \n3  [{\"iso_3166_1\": \"US\", \"name\": \"United States o...   2012-07-16  1084939099   \n4  [{\"iso_3166_1\": \"US\", \"name\": \"United States o...   2012-03-07   284139100   \n\n   runtime                                   spoken_languages    status  \\\n0    162.0  [{\"iso_639_1\": \"en\", \"name\": \"English\"}, {\"iso...  Released   \n1    169.0           [{\"iso_639_1\": \"en\", \"name\": \"English\"}]  Released   \n2    148.0  [{\"iso_639_1\": \"fr\", \"name\": \"Fran\\u00e7ais\"},...  Released   \n3    165.0           [{\"iso_639_1\": \"en\", \"name\": \"English\"}]  Released   \n4    132.0           [{\"iso_639_1\": \"en\", \"name\": \"English\"}]  Released   \n\n                                          tagline  \\\n0                     Enter the World of Pandora.   \n1  At the end of the world, the adventure begins.   \n2                           A Plan No One Escapes   \n3                                 The Legend Ends   \n4            Lost in our world, found in another.   \n\n                                      title  vote_average  vote_count  \n0                                    Avatar           7.2       11800  \n1  Pirates of the Caribbean: At World's End           6.9        4500  \n2                                   Spectre           6.3        4466  \n3                     The Dark Knight Rises           7.6        9106  \n4                               John Carter           6.1        2124  ",
      "text/html": "<div>\n<style scoped>\n    .dataframe tbody tr th:only-of-type {\n        vertical-align: middle;\n    }\n\n    .dataframe tbody tr th {\n        vertical-align: top;\n    }\n\n    .dataframe thead th {\n        text-align: right;\n    }\n</style>\n<table border=\"1\" class=\"dataframe\">\n  <thead>\n    <tr style=\"text-align: right;\">\n      <th></th>\n      <th>budget</th>\n      <th>genres</th>\n      <th>homepage</th>\n      <th>id</th>\n      <th>keywords</th>\n      <th>original_language</th>\n      <th>original_title</th>\n      <th>overview</th>\n      <th>popularity</th>\n      <th>production_companies</th>\n      <th>production_countries</th>\n      <th>release_date</th>\n      <th>revenue</th>\n      <th>runtime</th>\n      <th>spoken_languages</th>\n      <th>status</th>\n      <th>tagline</th>\n      <th>title</th>\n      <th>vote_average</th>\n      <th>vote_count</th>\n    </tr>\n  </thead>\n  <tbody>\n    <tr>\n      <th>0</th>\n      <td>237000000</td>\n      <td>[{\"id\": 28, \"name\": \"Action\"}, {\"id\": 12, \"nam...</td>\n      <td>http://www.avatarmovie.com/</td>\n      <td>19995</td>\n      <td>[{\"id\": 1463, \"name\": \"culture clash\"}, {\"id\":...</td>\n      <td>en</td>\n      <td>Avatar</td>\n      <td>In the 22nd century, a paraplegic Marine is di...</td>\n      <td>150.437577</td>\n      <td>[{\"name\": \"Ingenious Film Partners\", \"id\": 289...</td>\n      <td>[{\"iso_3166_1\": \"US\", \"name\": \"United States o...</td>\n      <td>2009-12-10</td>\n      <td>2787965087</td>\n      <td>162.0</td>\n      <td>[{\"iso_639_1\": \"en\", \"name\": \"English\"}, {\"iso...</td>\n      <td>Released</td>\n      <td>Enter the World of Pandora.</td>\n      <td>Avatar</td>\n      <td>7.2</td>\n      <td>11800</td>\n    </tr>\n    <tr>\n      <th>1</th>\n      <td>300000000</td>\n      <td>[{\"id\": 12, \"name\": \"Adventure\"}, {\"id\": 14, \"...</td>\n      <td>http://disney.go.com/disneypictures/pirates/</td>\n      <td>285</td>\n      <td>[{\"id\": 270, \"name\": \"ocean\"}, {\"id\": 726, \"na...</td>\n      <td>en</td>\n      <td>Pirates of the Caribbean: At World's End</td>\n      <td>Captain Barbossa, long believed to be dead, ha...</td>\n      <td>139.082615</td>\n      <td>[{\"name\": \"Walt Disney Pictures\", \"id\": 2}, {\"...</td>\n      <td>[{\"iso_3166_1\": \"US\", \"name\": \"United States o...</td>\n      <td>2007-05-19</td>\n      <td>961000000</td>\n      <td>169.0</td>\n      <td>[{\"iso_639_1\": \"en\", \"name\": \"English\"}]</td>\n      <td>Released</td>\n      <td>At the end of the world, the adventure begins.</td>\n      <td>Pirates of the Caribbean: At World's End</td>\n      <td>6.9</td>\n      <td>4500</td>\n    </tr>\n    <tr>\n      <th>2</th>\n      <td>245000000</td>\n      <td>[{\"id\": 28, \"name\": \"Action\"}, {\"id\": 12, \"nam...</td>\n      <td>http://www.sonypictures.com/movies/spectre/</td>\n      <td>206647</td>\n      <td>[{\"id\": 470, \"name\": \"spy\"}, {\"id\": 818, \"name...</td>\n      <td>en</td>\n      <td>Spectre</td>\n      <td>A cryptic message from Bond’s past sends him o...</td>\n      <td>107.376788</td>\n      <td>[{\"name\": \"Columbia Pictures\", \"id\": 5}, {\"nam...</td>\n      <td>[{\"iso_3166_1\": \"GB\", \"name\": \"United Kingdom\"...</td>\n      <td>2015-10-26</td>\n      <td>880674609</td>\n      <td>148.0</td>\n      <td>[{\"iso_639_1\": \"fr\", \"name\": \"Fran\\u00e7ais\"},...</td>\n      <td>Released</td>\n      <td>A Plan No One Escapes</td>\n      <td>Spectre</td>\n      <td>6.3</td>\n      <td>4466</td>\n    </tr>\n    <tr>\n      <th>3</th>\n      <td>250000000</td>\n      <td>[{\"id\": 28, \"name\": \"Action\"}, {\"id\": 80, \"nam...</td>\n      <td>http://www.thedarkknightrises.com/</td>\n      <td>49026</td>\n      <td>[{\"id\": 849, \"name\": \"dc comics\"}, {\"id\": 853,...</td>\n      <td>en</td>\n      <td>The Dark Knight Rises</td>\n      <td>Following the death of District Attorney Harve...</td>\n      <td>112.312950</td>\n      <td>[{\"name\": \"Legendary Pictures\", \"id\": 923}, {\"...</td>\n      <td>[{\"iso_3166_1\": \"US\", \"name\": \"United States o...</td>\n      <td>2012-07-16</td>\n      <td>1084939099</td>\n      <td>165.0</td>\n      <td>[{\"iso_639_1\": \"en\", \"name\": \"English\"}]</td>\n      <td>Released</td>\n      <td>The Legend Ends</td>\n      <td>The Dark Knight Rises</td>\n      <td>7.6</td>\n      <td>9106</td>\n    </tr>\n    <tr>\n      <th>4</th>\n      <td>260000000</td>\n      <td>[{\"id\": 28, \"name\": \"Action\"}, {\"id\": 12, \"nam...</td>\n      <td>http://movies.disney.com/john-carter</td>\n      <td>49529</td>\n      <td>[{\"id\": 818, \"name\": \"based on novel\"}, {\"id\":...</td>\n      <td>en</td>\n      <td>John Carter</td>\n      <td>John Carter is a war-weary, former military ca...</td>\n      <td>43.926995</td>\n      <td>[{\"name\": \"Walt Disney Pictures\", \"id\": 2}]</td>\n      <td>[{\"iso_3166_1\": \"US\", \"name\": \"United States o...</td>\n      <td>2012-03-07</td>\n      <td>284139100</td>\n      <td>132.0</td>\n      <td>[{\"iso_639_1\": \"en\", \"name\": \"English\"}]</td>\n      <td>Released</td>\n      <td>Lost in our world, found in another.</td>\n      <td>John Carter</td>\n      <td>6.1</td>\n      <td>2124</td>\n    </tr>\n  </tbody>\n</table>\n</div>"
     },
     "execution_count": 3,
     "metadata": {},
     "output_type": "execute_result"
    }
   ],
   "source": [
    "# check movies dataset\n",
    "movies_df.head(5)"
   ],
   "metadata": {
    "collapsed": false,
    "pycharm": {
     "name": "#%%\n"
    }
   }
  },
  {
   "cell_type": "code",
   "execution_count": 4,
   "outputs": [],
   "source": [
    "# Join two dataset based on id (movie_id)\n",
    "credits_df.columns = ['id','tittle','cast','crew']\n",
    "df = movies_df.merge(credits_df, on='id')"
   ],
   "metadata": {
    "collapsed": false,
    "pycharm": {
     "name": "#%%\n"
    }
   }
  },
  {
   "cell_type": "code",
   "execution_count": 5,
   "outputs": [
    {
     "data": {
      "text/plain": "      budget                                             genres  \\\n0  237000000  [{\"id\": 28, \"name\": \"Action\"}, {\"id\": 12, \"nam...   \n1  300000000  [{\"id\": 12, \"name\": \"Adventure\"}, {\"id\": 14, \"...   \n2  245000000  [{\"id\": 28, \"name\": \"Action\"}, {\"id\": 12, \"nam...   \n3  250000000  [{\"id\": 28, \"name\": \"Action\"}, {\"id\": 80, \"nam...   \n4  260000000  [{\"id\": 28, \"name\": \"Action\"}, {\"id\": 12, \"nam...   \n\n                                       homepage      id  \\\n0                   http://www.avatarmovie.com/   19995   \n1  http://disney.go.com/disneypictures/pirates/     285   \n2   http://www.sonypictures.com/movies/spectre/  206647   \n3            http://www.thedarkknightrises.com/   49026   \n4          http://movies.disney.com/john-carter   49529   \n\n                                            keywords original_language  \\\n0  [{\"id\": 1463, \"name\": \"culture clash\"}, {\"id\":...                en   \n1  [{\"id\": 270, \"name\": \"ocean\"}, {\"id\": 726, \"na...                en   \n2  [{\"id\": 470, \"name\": \"spy\"}, {\"id\": 818, \"name...                en   \n3  [{\"id\": 849, \"name\": \"dc comics\"}, {\"id\": 853,...                en   \n4  [{\"id\": 818, \"name\": \"based on novel\"}, {\"id\":...                en   \n\n                             original_title  \\\n0                                    Avatar   \n1  Pirates of the Caribbean: At World's End   \n2                                   Spectre   \n3                     The Dark Knight Rises   \n4                               John Carter   \n\n                                            overview  popularity  \\\n0  In the 22nd century, a paraplegic Marine is di...  150.437577   \n1  Captain Barbossa, long believed to be dead, ha...  139.082615   \n2  A cryptic message from Bond’s past sends him o...  107.376788   \n3  Following the death of District Attorney Harve...  112.312950   \n4  John Carter is a war-weary, former military ca...   43.926995   \n\n                                production_companies  ... runtime  \\\n0  [{\"name\": \"Ingenious Film Partners\", \"id\": 289...  ...   162.0   \n1  [{\"name\": \"Walt Disney Pictures\", \"id\": 2}, {\"...  ...   169.0   \n2  [{\"name\": \"Columbia Pictures\", \"id\": 5}, {\"nam...  ...   148.0   \n3  [{\"name\": \"Legendary Pictures\", \"id\": 923}, {\"...  ...   165.0   \n4        [{\"name\": \"Walt Disney Pictures\", \"id\": 2}]  ...   132.0   \n\n                                    spoken_languages    status  \\\n0  [{\"iso_639_1\": \"en\", \"name\": \"English\"}, {\"iso...  Released   \n1           [{\"iso_639_1\": \"en\", \"name\": \"English\"}]  Released   \n2  [{\"iso_639_1\": \"fr\", \"name\": \"Fran\\u00e7ais\"},...  Released   \n3           [{\"iso_639_1\": \"en\", \"name\": \"English\"}]  Released   \n4           [{\"iso_639_1\": \"en\", \"name\": \"English\"}]  Released   \n\n                                          tagline  \\\n0                     Enter the World of Pandora.   \n1  At the end of the world, the adventure begins.   \n2                           A Plan No One Escapes   \n3                                 The Legend Ends   \n4            Lost in our world, found in another.   \n\n                                      title vote_average vote_count  \\\n0                                    Avatar          7.2      11800   \n1  Pirates of the Caribbean: At World's End          6.9       4500   \n2                                   Spectre          6.3       4466   \n3                     The Dark Knight Rises          7.6       9106   \n4                               John Carter          6.1       2124   \n\n                                     tittle  \\\n0                                    Avatar   \n1  Pirates of the Caribbean: At World's End   \n2                                   Spectre   \n3                     The Dark Knight Rises   \n4                               John Carter   \n\n                                                cast  \\\n0  [{\"cast_id\": 242, \"character\": \"Jake Sully\", \"...   \n1  [{\"cast_id\": 4, \"character\": \"Captain Jack Spa...   \n2  [{\"cast_id\": 1, \"character\": \"James Bond\", \"cr...   \n3  [{\"cast_id\": 2, \"character\": \"Bruce Wayne / Ba...   \n4  [{\"cast_id\": 5, \"character\": \"John Carter\", \"c...   \n\n                                                crew  \n0  [{\"credit_id\": \"52fe48009251416c750aca23\", \"de...  \n1  [{\"credit_id\": \"52fe4232c3a36847f800b579\", \"de...  \n2  [{\"credit_id\": \"54805967c3a36829b5002c41\", \"de...  \n3  [{\"credit_id\": \"52fe4781c3a36847f81398c3\", \"de...  \n4  [{\"credit_id\": \"52fe479ac3a36847f813eaa3\", \"de...  \n\n[5 rows x 23 columns]",
      "text/html": "<div>\n<style scoped>\n    .dataframe tbody tr th:only-of-type {\n        vertical-align: middle;\n    }\n\n    .dataframe tbody tr th {\n        vertical-align: top;\n    }\n\n    .dataframe thead th {\n        text-align: right;\n    }\n</style>\n<table border=\"1\" class=\"dataframe\">\n  <thead>\n    <tr style=\"text-align: right;\">\n      <th></th>\n      <th>budget</th>\n      <th>genres</th>\n      <th>homepage</th>\n      <th>id</th>\n      <th>keywords</th>\n      <th>original_language</th>\n      <th>original_title</th>\n      <th>overview</th>\n      <th>popularity</th>\n      <th>production_companies</th>\n      <th>...</th>\n      <th>runtime</th>\n      <th>spoken_languages</th>\n      <th>status</th>\n      <th>tagline</th>\n      <th>title</th>\n      <th>vote_average</th>\n      <th>vote_count</th>\n      <th>tittle</th>\n      <th>cast</th>\n      <th>crew</th>\n    </tr>\n  </thead>\n  <tbody>\n    <tr>\n      <th>0</th>\n      <td>237000000</td>\n      <td>[{\"id\": 28, \"name\": \"Action\"}, {\"id\": 12, \"nam...</td>\n      <td>http://www.avatarmovie.com/</td>\n      <td>19995</td>\n      <td>[{\"id\": 1463, \"name\": \"culture clash\"}, {\"id\":...</td>\n      <td>en</td>\n      <td>Avatar</td>\n      <td>In the 22nd century, a paraplegic Marine is di...</td>\n      <td>150.437577</td>\n      <td>[{\"name\": \"Ingenious Film Partners\", \"id\": 289...</td>\n      <td>...</td>\n      <td>162.0</td>\n      <td>[{\"iso_639_1\": \"en\", \"name\": \"English\"}, {\"iso...</td>\n      <td>Released</td>\n      <td>Enter the World of Pandora.</td>\n      <td>Avatar</td>\n      <td>7.2</td>\n      <td>11800</td>\n      <td>Avatar</td>\n      <td>[{\"cast_id\": 242, \"character\": \"Jake Sully\", \"...</td>\n      <td>[{\"credit_id\": \"52fe48009251416c750aca23\", \"de...</td>\n    </tr>\n    <tr>\n      <th>1</th>\n      <td>300000000</td>\n      <td>[{\"id\": 12, \"name\": \"Adventure\"}, {\"id\": 14, \"...</td>\n      <td>http://disney.go.com/disneypictures/pirates/</td>\n      <td>285</td>\n      <td>[{\"id\": 270, \"name\": \"ocean\"}, {\"id\": 726, \"na...</td>\n      <td>en</td>\n      <td>Pirates of the Caribbean: At World's End</td>\n      <td>Captain Barbossa, long believed to be dead, ha...</td>\n      <td>139.082615</td>\n      <td>[{\"name\": \"Walt Disney Pictures\", \"id\": 2}, {\"...</td>\n      <td>...</td>\n      <td>169.0</td>\n      <td>[{\"iso_639_1\": \"en\", \"name\": \"English\"}]</td>\n      <td>Released</td>\n      <td>At the end of the world, the adventure begins.</td>\n      <td>Pirates of the Caribbean: At World's End</td>\n      <td>6.9</td>\n      <td>4500</td>\n      <td>Pirates of the Caribbean: At World's End</td>\n      <td>[{\"cast_id\": 4, \"character\": \"Captain Jack Spa...</td>\n      <td>[{\"credit_id\": \"52fe4232c3a36847f800b579\", \"de...</td>\n    </tr>\n    <tr>\n      <th>2</th>\n      <td>245000000</td>\n      <td>[{\"id\": 28, \"name\": \"Action\"}, {\"id\": 12, \"nam...</td>\n      <td>http://www.sonypictures.com/movies/spectre/</td>\n      <td>206647</td>\n      <td>[{\"id\": 470, \"name\": \"spy\"}, {\"id\": 818, \"name...</td>\n      <td>en</td>\n      <td>Spectre</td>\n      <td>A cryptic message from Bond’s past sends him o...</td>\n      <td>107.376788</td>\n      <td>[{\"name\": \"Columbia Pictures\", \"id\": 5}, {\"nam...</td>\n      <td>...</td>\n      <td>148.0</td>\n      <td>[{\"iso_639_1\": \"fr\", \"name\": \"Fran\\u00e7ais\"},...</td>\n      <td>Released</td>\n      <td>A Plan No One Escapes</td>\n      <td>Spectre</td>\n      <td>6.3</td>\n      <td>4466</td>\n      <td>Spectre</td>\n      <td>[{\"cast_id\": 1, \"character\": \"James Bond\", \"cr...</td>\n      <td>[{\"credit_id\": \"54805967c3a36829b5002c41\", \"de...</td>\n    </tr>\n    <tr>\n      <th>3</th>\n      <td>250000000</td>\n      <td>[{\"id\": 28, \"name\": \"Action\"}, {\"id\": 80, \"nam...</td>\n      <td>http://www.thedarkknightrises.com/</td>\n      <td>49026</td>\n      <td>[{\"id\": 849, \"name\": \"dc comics\"}, {\"id\": 853,...</td>\n      <td>en</td>\n      <td>The Dark Knight Rises</td>\n      <td>Following the death of District Attorney Harve...</td>\n      <td>112.312950</td>\n      <td>[{\"name\": \"Legendary Pictures\", \"id\": 923}, {\"...</td>\n      <td>...</td>\n      <td>165.0</td>\n      <td>[{\"iso_639_1\": \"en\", \"name\": \"English\"}]</td>\n      <td>Released</td>\n      <td>The Legend Ends</td>\n      <td>The Dark Knight Rises</td>\n      <td>7.6</td>\n      <td>9106</td>\n      <td>The Dark Knight Rises</td>\n      <td>[{\"cast_id\": 2, \"character\": \"Bruce Wayne / Ba...</td>\n      <td>[{\"credit_id\": \"52fe4781c3a36847f81398c3\", \"de...</td>\n    </tr>\n    <tr>\n      <th>4</th>\n      <td>260000000</td>\n      <td>[{\"id\": 28, \"name\": \"Action\"}, {\"id\": 12, \"nam...</td>\n      <td>http://movies.disney.com/john-carter</td>\n      <td>49529</td>\n      <td>[{\"id\": 818, \"name\": \"based on novel\"}, {\"id\":...</td>\n      <td>en</td>\n      <td>John Carter</td>\n      <td>John Carter is a war-weary, former military ca...</td>\n      <td>43.926995</td>\n      <td>[{\"name\": \"Walt Disney Pictures\", \"id\": 2}]</td>\n      <td>...</td>\n      <td>132.0</td>\n      <td>[{\"iso_639_1\": \"en\", \"name\": \"English\"}]</td>\n      <td>Released</td>\n      <td>Lost in our world, found in another.</td>\n      <td>John Carter</td>\n      <td>6.1</td>\n      <td>2124</td>\n      <td>John Carter</td>\n      <td>[{\"cast_id\": 5, \"character\": \"John Carter\", \"c...</td>\n      <td>[{\"credit_id\": \"52fe479ac3a36847f813eaa3\", \"de...</td>\n    </tr>\n  </tbody>\n</table>\n<p>5 rows × 23 columns</p>\n</div>"
     },
     "execution_count": 5,
     "metadata": {},
     "output_type": "execute_result"
    }
   ],
   "source": [
    "# check joined dataset\n",
    "\n",
    "df.head(5)"
   ],
   "metadata": {
    "collapsed": false,
    "pycharm": {
     "name": "#%%\n"
    }
   }
  },
  {
   "cell_type": "markdown",
   "source": [
    "### Remove unnecessary columns"
   ],
   "metadata": {
    "collapsed": false,
    "pycharm": {
     "name": "#%% md\n"
    }
   }
  },
  {
   "cell_type": "code",
   "execution_count": 6,
   "outputs": [
    {
     "data": {
      "text/plain": "Index(['budget', 'genres', 'homepage', 'id', 'keywords', 'original_language',\n       'original_title', 'overview', 'popularity', 'production_companies',\n       'production_countries', 'release_date', 'revenue', 'runtime',\n       'spoken_languages', 'status', 'tagline', 'title', 'vote_average',\n       'vote_count', 'tittle', 'cast', 'crew'],\n      dtype='object')"
     },
     "execution_count": 6,
     "metadata": {},
     "output_type": "execute_result"
    }
   ],
   "source": [
    "# check columns\n",
    "\n",
    "df.columns"
   ],
   "metadata": {
    "collapsed": false,
    "pycharm": {
     "name": "#%%\n"
    }
   }
  },
  {
   "cell_type": "code",
   "execution_count": 7,
   "outputs": [],
   "source": [
    "# drop unnecessary columns\n",
    "\n",
    "df = df.drop(['budget', 'homepage',\n",
    "              'original_title', 'production_companies',\n",
    "              'release_date', 'revenue', 'runtime',\n",
    "              'spoken_languages', 'status', 'tagline','tittle'], axis=1)"
   ],
   "metadata": {
    "collapsed": false,
    "pycharm": {
     "name": "#%%\n"
    }
   }
  },
  {
   "cell_type": "code",
   "execution_count": 8,
   "outputs": [
    {
     "data": {
      "text/plain": "Index(['genres', 'id', 'keywords', 'original_language', 'overview',\n       'popularity', 'production_countries', 'title', 'vote_average',\n       'vote_count', 'cast', 'crew'],\n      dtype='object')"
     },
     "execution_count": 8,
     "metadata": {},
     "output_type": "execute_result"
    }
   ],
   "source": [
    "# check available columns\n",
    "df.columns"
   ],
   "metadata": {
    "collapsed": false,
    "pycharm": {
     "name": "#%%\n"
    }
   }
  },
  {
   "cell_type": "code",
   "execution_count": 9,
   "outputs": [],
   "source": [
    "# rename columns\n",
    "\n",
    "df.columns = ['genres', 'id', 'keywords',\n",
    "              'language', 'overview',\n",
    "              'popularity', 'countries',\n",
    "              'title', 'vote_average',\n",
    "              'vote_count', 'cast', 'crew']"
   ],
   "metadata": {
    "collapsed": false,
    "pycharm": {
     "name": "#%%\n"
    }
   }
  },
  {
   "cell_type": "code",
   "execution_count": 10,
   "outputs": [
    {
     "data": {
      "text/plain": "                                              genres     id  \\\n0  [{\"id\": 28, \"name\": \"Action\"}, {\"id\": 12, \"nam...  19995   \n\n                                            keywords language  \\\n0  [{\"id\": 1463, \"name\": \"culture clash\"}, {\"id\":...       en   \n\n                                            overview  popularity  \\\n0  In the 22nd century, a paraplegic Marine is di...  150.437577   \n\n                                           countries   title  vote_average  \\\n0  [{\"iso_3166_1\": \"US\", \"name\": \"United States o...  Avatar           7.2   \n\n   vote_count                                               cast  \\\n0       11800  [{\"cast_id\": 242, \"character\": \"Jake Sully\", \"...   \n\n                                                crew  \n0  [{\"credit_id\": \"52fe48009251416c750aca23\", \"de...  ",
      "text/html": "<div>\n<style scoped>\n    .dataframe tbody tr th:only-of-type {\n        vertical-align: middle;\n    }\n\n    .dataframe tbody tr th {\n        vertical-align: top;\n    }\n\n    .dataframe thead th {\n        text-align: right;\n    }\n</style>\n<table border=\"1\" class=\"dataframe\">\n  <thead>\n    <tr style=\"text-align: right;\">\n      <th></th>\n      <th>genres</th>\n      <th>id</th>\n      <th>keywords</th>\n      <th>language</th>\n      <th>overview</th>\n      <th>popularity</th>\n      <th>countries</th>\n      <th>title</th>\n      <th>vote_average</th>\n      <th>vote_count</th>\n      <th>cast</th>\n      <th>crew</th>\n    </tr>\n  </thead>\n  <tbody>\n    <tr>\n      <th>0</th>\n      <td>[{\"id\": 28, \"name\": \"Action\"}, {\"id\": 12, \"nam...</td>\n      <td>19995</td>\n      <td>[{\"id\": 1463, \"name\": \"culture clash\"}, {\"id\":...</td>\n      <td>en</td>\n      <td>In the 22nd century, a paraplegic Marine is di...</td>\n      <td>150.437577</td>\n      <td>[{\"iso_3166_1\": \"US\", \"name\": \"United States o...</td>\n      <td>Avatar</td>\n      <td>7.2</td>\n      <td>11800</td>\n      <td>[{\"cast_id\": 242, \"character\": \"Jake Sully\", \"...</td>\n      <td>[{\"credit_id\": \"52fe48009251416c750aca23\", \"de...</td>\n    </tr>\n  </tbody>\n</table>\n</div>"
     },
     "execution_count": 10,
     "metadata": {},
     "output_type": "execute_result"
    }
   ],
   "source": [
    "# check data after removing unnecessary columns\n",
    "df.head(1)"
   ],
   "metadata": {
    "collapsed": false,
    "pycharm": {
     "name": "#%%\n"
    }
   }
  },
  {
   "cell_type": "code",
   "execution_count": 11,
   "outputs": [
    {
     "data": {
      "text/plain": "genres          0\nid              0\nkeywords        0\nlanguage        0\noverview        3\npopularity      0\ncountries       0\ntitle           0\nvote_average    0\nvote_count      0\ncast            0\ncrew            0\ndtype: int64"
     },
     "execution_count": 11,
     "metadata": {},
     "output_type": "execute_result"
    }
   ],
   "source": [
    "# Check for null values\n",
    "df.isnull().sum()"
   ],
   "metadata": {
    "collapsed": false,
    "pycharm": {
     "name": "#%%\n"
    }
   }
  },
  {
   "cell_type": "code",
   "execution_count": 12,
   "outputs": [],
   "source": [
    "# fill null values with empty string\n",
    "\n",
    "df['overview'] = df['overview'].fillna('')"
   ],
   "metadata": {
    "collapsed": false,
    "pycharm": {
     "name": "#%%\n"
    }
   }
  },
  {
   "cell_type": "code",
   "execution_count": 13,
   "outputs": [
    {
     "data": {
      "text/plain": "genres          0\nid              0\nkeywords        0\nlanguage        0\noverview        0\npopularity      0\ncountries       0\ntitle           0\nvote_average    0\nvote_count      0\ncast            0\ncrew            0\ndtype: int64"
     },
     "execution_count": 13,
     "metadata": {},
     "output_type": "execute_result"
    }
   ],
   "source": [
    "# Check for null values\n",
    "df.isnull().sum()"
   ],
   "metadata": {
    "collapsed": false,
    "pycharm": {
     "name": "#%%\n"
    }
   }
  },
  {
   "cell_type": "code",
   "execution_count": 14,
   "outputs": [
    {
     "data": {
      "text/plain": "                                              genres      id  \\\n0  [{\"id\": 28, \"name\": \"Action\"}, {\"id\": 12, \"nam...   19995   \n1  [{\"id\": 12, \"name\": \"Adventure\"}, {\"id\": 14, \"...     285   \n2  [{\"id\": 28, \"name\": \"Action\"}, {\"id\": 12, \"nam...  206647   \n3  [{\"id\": 28, \"name\": \"Action\"}, {\"id\": 80, \"nam...   49026   \n4  [{\"id\": 28, \"name\": \"Action\"}, {\"id\": 12, \"nam...   49529   \n\n                                            keywords language  \\\n0  [{\"id\": 1463, \"name\": \"culture clash\"}, {\"id\":...       en   \n1  [{\"id\": 270, \"name\": \"ocean\"}, {\"id\": 726, \"na...       en   \n2  [{\"id\": 470, \"name\": \"spy\"}, {\"id\": 818, \"name...       en   \n3  [{\"id\": 849, \"name\": \"dc comics\"}, {\"id\": 853,...       en   \n4  [{\"id\": 818, \"name\": \"based on novel\"}, {\"id\":...       en   \n\n                                            overview  popularity  \\\n0  In the 22nd century, a paraplegic Marine is di...  150.437577   \n1  Captain Barbossa, long believed to be dead, ha...  139.082615   \n2  A cryptic message from Bond’s past sends him o...  107.376788   \n3  Following the death of District Attorney Harve...  112.312950   \n4  John Carter is a war-weary, former military ca...   43.926995   \n\n                                           countries  \\\n0  [{\"iso_3166_1\": \"US\", \"name\": \"United States o...   \n1  [{\"iso_3166_1\": \"US\", \"name\": \"United States o...   \n2  [{\"iso_3166_1\": \"GB\", \"name\": \"United Kingdom\"...   \n3  [{\"iso_3166_1\": \"US\", \"name\": \"United States o...   \n4  [{\"iso_3166_1\": \"US\", \"name\": \"United States o...   \n\n                                      title  vote_average  vote_count  \\\n0                                    Avatar           7.2       11800   \n1  Pirates of the Caribbean: At World's End           6.9        4500   \n2                                   Spectre           6.3        4466   \n3                     The Dark Knight Rises           7.6        9106   \n4                               John Carter           6.1        2124   \n\n                                                cast  \\\n0  [{\"cast_id\": 242, \"character\": \"Jake Sully\", \"...   \n1  [{\"cast_id\": 4, \"character\": \"Captain Jack Spa...   \n2  [{\"cast_id\": 1, \"character\": \"James Bond\", \"cr...   \n3  [{\"cast_id\": 2, \"character\": \"Bruce Wayne / Ba...   \n4  [{\"cast_id\": 5, \"character\": \"John Carter\", \"c...   \n\n                                                crew  \n0  [{\"credit_id\": \"52fe48009251416c750aca23\", \"de...  \n1  [{\"credit_id\": \"52fe4232c3a36847f800b579\", \"de...  \n2  [{\"credit_id\": \"54805967c3a36829b5002c41\", \"de...  \n3  [{\"credit_id\": \"52fe4781c3a36847f81398c3\", \"de...  \n4  [{\"credit_id\": \"52fe479ac3a36847f813eaa3\", \"de...  ",
      "text/html": "<div>\n<style scoped>\n    .dataframe tbody tr th:only-of-type {\n        vertical-align: middle;\n    }\n\n    .dataframe tbody tr th {\n        vertical-align: top;\n    }\n\n    .dataframe thead th {\n        text-align: right;\n    }\n</style>\n<table border=\"1\" class=\"dataframe\">\n  <thead>\n    <tr style=\"text-align: right;\">\n      <th></th>\n      <th>genres</th>\n      <th>id</th>\n      <th>keywords</th>\n      <th>language</th>\n      <th>overview</th>\n      <th>popularity</th>\n      <th>countries</th>\n      <th>title</th>\n      <th>vote_average</th>\n      <th>vote_count</th>\n      <th>cast</th>\n      <th>crew</th>\n    </tr>\n  </thead>\n  <tbody>\n    <tr>\n      <th>0</th>\n      <td>[{\"id\": 28, \"name\": \"Action\"}, {\"id\": 12, \"nam...</td>\n      <td>19995</td>\n      <td>[{\"id\": 1463, \"name\": \"culture clash\"}, {\"id\":...</td>\n      <td>en</td>\n      <td>In the 22nd century, a paraplegic Marine is di...</td>\n      <td>150.437577</td>\n      <td>[{\"iso_3166_1\": \"US\", \"name\": \"United States o...</td>\n      <td>Avatar</td>\n      <td>7.2</td>\n      <td>11800</td>\n      <td>[{\"cast_id\": 242, \"character\": \"Jake Sully\", \"...</td>\n      <td>[{\"credit_id\": \"52fe48009251416c750aca23\", \"de...</td>\n    </tr>\n    <tr>\n      <th>1</th>\n      <td>[{\"id\": 12, \"name\": \"Adventure\"}, {\"id\": 14, \"...</td>\n      <td>285</td>\n      <td>[{\"id\": 270, \"name\": \"ocean\"}, {\"id\": 726, \"na...</td>\n      <td>en</td>\n      <td>Captain Barbossa, long believed to be dead, ha...</td>\n      <td>139.082615</td>\n      <td>[{\"iso_3166_1\": \"US\", \"name\": \"United States o...</td>\n      <td>Pirates of the Caribbean: At World's End</td>\n      <td>6.9</td>\n      <td>4500</td>\n      <td>[{\"cast_id\": 4, \"character\": \"Captain Jack Spa...</td>\n      <td>[{\"credit_id\": \"52fe4232c3a36847f800b579\", \"de...</td>\n    </tr>\n    <tr>\n      <th>2</th>\n      <td>[{\"id\": 28, \"name\": \"Action\"}, {\"id\": 12, \"nam...</td>\n      <td>206647</td>\n      <td>[{\"id\": 470, \"name\": \"spy\"}, {\"id\": 818, \"name...</td>\n      <td>en</td>\n      <td>A cryptic message from Bond’s past sends him o...</td>\n      <td>107.376788</td>\n      <td>[{\"iso_3166_1\": \"GB\", \"name\": \"United Kingdom\"...</td>\n      <td>Spectre</td>\n      <td>6.3</td>\n      <td>4466</td>\n      <td>[{\"cast_id\": 1, \"character\": \"James Bond\", \"cr...</td>\n      <td>[{\"credit_id\": \"54805967c3a36829b5002c41\", \"de...</td>\n    </tr>\n    <tr>\n      <th>3</th>\n      <td>[{\"id\": 28, \"name\": \"Action\"}, {\"id\": 80, \"nam...</td>\n      <td>49026</td>\n      <td>[{\"id\": 849, \"name\": \"dc comics\"}, {\"id\": 853,...</td>\n      <td>en</td>\n      <td>Following the death of District Attorney Harve...</td>\n      <td>112.312950</td>\n      <td>[{\"iso_3166_1\": \"US\", \"name\": \"United States o...</td>\n      <td>The Dark Knight Rises</td>\n      <td>7.6</td>\n      <td>9106</td>\n      <td>[{\"cast_id\": 2, \"character\": \"Bruce Wayne / Ba...</td>\n      <td>[{\"credit_id\": \"52fe4781c3a36847f81398c3\", \"de...</td>\n    </tr>\n    <tr>\n      <th>4</th>\n      <td>[{\"id\": 28, \"name\": \"Action\"}, {\"id\": 12, \"nam...</td>\n      <td>49529</td>\n      <td>[{\"id\": 818, \"name\": \"based on novel\"}, {\"id\":...</td>\n      <td>en</td>\n      <td>John Carter is a war-weary, former military ca...</td>\n      <td>43.926995</td>\n      <td>[{\"iso_3166_1\": \"US\", \"name\": \"United States o...</td>\n      <td>John Carter</td>\n      <td>6.1</td>\n      <td>2124</td>\n      <td>[{\"cast_id\": 5, \"character\": \"John Carter\", \"c...</td>\n      <td>[{\"credit_id\": \"52fe479ac3a36847f813eaa3\", \"de...</td>\n    </tr>\n  </tbody>\n</table>\n</div>"
     },
     "execution_count": 14,
     "metadata": {},
     "output_type": "execute_result"
    }
   ],
   "source": [
    "# check data\n",
    "df.head(5)"
   ],
   "metadata": {
    "collapsed": false,
    "pycharm": {
     "name": "#%%\n"
    }
   }
  },
  {
   "cell_type": "markdown",
   "source": [
    "### Demographic Recommendation"
   ],
   "metadata": {
    "collapsed": false,
    "pycharm": {
     "name": "#%% md\n"
    }
   }
  },
  {
   "cell_type": "code",
   "execution_count": 15,
   "outputs": [
    {
     "data": {
      "text/plain": "6.092171559442011"
     },
     "execution_count": 15,
     "metadata": {},
     "output_type": "execute_result"
    }
   ],
   "source": [
    "# find mean vote accross the whole dataset\n",
    "C = df['vote_average'].mean()\n",
    "C"
   ],
   "metadata": {
    "collapsed": false,
    "pycharm": {
     "name": "#%%\n"
    }
   }
  },
  {
   "cell_type": "code",
   "execution_count": 16,
   "outputs": [
    {
     "data": {
      "text/plain": "1838.4000000000015"
     },
     "execution_count": 16,
     "metadata": {},
     "output_type": "execute_result"
    }
   ],
   "source": [
    "# find minimum vote requires to be listed\n",
    "m = df['vote_count'].quantile(.9)\n",
    "m"
   ],
   "metadata": {
    "collapsed": false,
    "pycharm": {
     "name": "#%%\n"
    }
   }
  },
  {
   "cell_type": "code",
   "execution_count": 17,
   "outputs": [
    {
     "data": {
      "text/plain": "(481, 12)"
     },
     "execution_count": 17,
     "metadata": {},
     "output_type": "execute_result"
    }
   ],
   "source": [
    "# all all the movies that matches minimum vote requirments\n",
    "movies_filter_by_vote_count = df.copy().loc[df['vote_count'] >= m]\n",
    "movies_filter_by_vote_count.shape"
   ],
   "metadata": {
    "collapsed": false,
    "pycharm": {
     "name": "#%%\n"
    }
   }
  },
  {
   "cell_type": "code",
   "execution_count": 18,
   "outputs": [],
   "source": [
    "# weighted rating calculation\n",
    "def weighted_rating(x, m=m, C=C):\n",
    "    v = x['vote_count']\n",
    "    R = x['vote_average']\n",
    "    # Calculation based on the IMDB formula\n",
    "    return (v/(v+m) * R) + (m/(m+v) * C)"
   ],
   "metadata": {
    "collapsed": false,
    "pycharm": {
     "name": "#%%\n"
    }
   }
  },
  {
   "cell_type": "code",
   "execution_count": 19,
   "outputs": [],
   "source": [
    "# Add a new feature 'score' and calculate its value with `weighted_rating()`\n",
    "movies_filter_by_vote_count['score'] = movies_filter_by_vote_count.apply(weighted_rating, axis=1)"
   ],
   "metadata": {
    "collapsed": false,
    "pycharm": {
     "name": "#%%\n"
    }
   }
  },
  {
   "cell_type": "code",
   "execution_count": 20,
   "outputs": [
    {
     "data": {
      "text/plain": "                                              genres      id  \\\n0  [{\"id\": 28, \"name\": \"Action\"}, {\"id\": 12, \"nam...   19995   \n1  [{\"id\": 12, \"name\": \"Adventure\"}, {\"id\": 14, \"...     285   \n2  [{\"id\": 28, \"name\": \"Action\"}, {\"id\": 12, \"nam...  206647   \n3  [{\"id\": 28, \"name\": \"Action\"}, {\"id\": 80, \"nam...   49026   \n4  [{\"id\": 28, \"name\": \"Action\"}, {\"id\": 12, \"nam...   49529   \n\n                                            keywords language  \\\n0  [{\"id\": 1463, \"name\": \"culture clash\"}, {\"id\":...       en   \n1  [{\"id\": 270, \"name\": \"ocean\"}, {\"id\": 726, \"na...       en   \n2  [{\"id\": 470, \"name\": \"spy\"}, {\"id\": 818, \"name...       en   \n3  [{\"id\": 849, \"name\": \"dc comics\"}, {\"id\": 853,...       en   \n4  [{\"id\": 818, \"name\": \"based on novel\"}, {\"id\":...       en   \n\n                                            overview  popularity  \\\n0  In the 22nd century, a paraplegic Marine is di...  150.437577   \n1  Captain Barbossa, long believed to be dead, ha...  139.082615   \n2  A cryptic message from Bond’s past sends him o...  107.376788   \n3  Following the death of District Attorney Harve...  112.312950   \n4  John Carter is a war-weary, former military ca...   43.926995   \n\n                                           countries  \\\n0  [{\"iso_3166_1\": \"US\", \"name\": \"United States o...   \n1  [{\"iso_3166_1\": \"US\", \"name\": \"United States o...   \n2  [{\"iso_3166_1\": \"GB\", \"name\": \"United Kingdom\"...   \n3  [{\"iso_3166_1\": \"US\", \"name\": \"United States o...   \n4  [{\"iso_3166_1\": \"US\", \"name\": \"United States o...   \n\n                                      title  vote_average  vote_count  \\\n0                                    Avatar           7.2       11800   \n1  Pirates of the Caribbean: At World's End           6.9        4500   \n2                                   Spectre           6.3        4466   \n3                     The Dark Knight Rises           7.6        9106   \n4                               John Carter           6.1        2124   \n\n                                                cast  \\\n0  [{\"cast_id\": 242, \"character\": \"Jake Sully\", \"...   \n1  [{\"cast_id\": 4, \"character\": \"Captain Jack Spa...   \n2  [{\"cast_id\": 1, \"character\": \"James Bond\", \"cr...   \n3  [{\"cast_id\": 2, \"character\": \"Bruce Wayne / Ba...   \n4  [{\"cast_id\": 5, \"character\": \"John Carter\", \"c...   \n\n                                                crew     score  \n0  [{\"credit_id\": \"52fe48009251416c750aca23\", \"de...  7.050669  \n1  [{\"credit_id\": \"52fe4232c3a36847f800b579\", \"de...  6.665696  \n2  [{\"credit_id\": \"54805967c3a36829b5002c41\", \"de...  6.239396  \n3  [{\"credit_id\": \"52fe4781c3a36847f81398c3\", \"de...  7.346721  \n4  [{\"credit_id\": \"52fe479ac3a36847f813eaa3\", \"de...  6.096368  ",
      "text/html": "<div>\n<style scoped>\n    .dataframe tbody tr th:only-of-type {\n        vertical-align: middle;\n    }\n\n    .dataframe tbody tr th {\n        vertical-align: top;\n    }\n\n    .dataframe thead th {\n        text-align: right;\n    }\n</style>\n<table border=\"1\" class=\"dataframe\">\n  <thead>\n    <tr style=\"text-align: right;\">\n      <th></th>\n      <th>genres</th>\n      <th>id</th>\n      <th>keywords</th>\n      <th>language</th>\n      <th>overview</th>\n      <th>popularity</th>\n      <th>countries</th>\n      <th>title</th>\n      <th>vote_average</th>\n      <th>vote_count</th>\n      <th>cast</th>\n      <th>crew</th>\n      <th>score</th>\n    </tr>\n  </thead>\n  <tbody>\n    <tr>\n      <th>0</th>\n      <td>[{\"id\": 28, \"name\": \"Action\"}, {\"id\": 12, \"nam...</td>\n      <td>19995</td>\n      <td>[{\"id\": 1463, \"name\": \"culture clash\"}, {\"id\":...</td>\n      <td>en</td>\n      <td>In the 22nd century, a paraplegic Marine is di...</td>\n      <td>150.437577</td>\n      <td>[{\"iso_3166_1\": \"US\", \"name\": \"United States o...</td>\n      <td>Avatar</td>\n      <td>7.2</td>\n      <td>11800</td>\n      <td>[{\"cast_id\": 242, \"character\": \"Jake Sully\", \"...</td>\n      <td>[{\"credit_id\": \"52fe48009251416c750aca23\", \"de...</td>\n      <td>7.050669</td>\n    </tr>\n    <tr>\n      <th>1</th>\n      <td>[{\"id\": 12, \"name\": \"Adventure\"}, {\"id\": 14, \"...</td>\n      <td>285</td>\n      <td>[{\"id\": 270, \"name\": \"ocean\"}, {\"id\": 726, \"na...</td>\n      <td>en</td>\n      <td>Captain Barbossa, long believed to be dead, ha...</td>\n      <td>139.082615</td>\n      <td>[{\"iso_3166_1\": \"US\", \"name\": \"United States o...</td>\n      <td>Pirates of the Caribbean: At World's End</td>\n      <td>6.9</td>\n      <td>4500</td>\n      <td>[{\"cast_id\": 4, \"character\": \"Captain Jack Spa...</td>\n      <td>[{\"credit_id\": \"52fe4232c3a36847f800b579\", \"de...</td>\n      <td>6.665696</td>\n    </tr>\n    <tr>\n      <th>2</th>\n      <td>[{\"id\": 28, \"name\": \"Action\"}, {\"id\": 12, \"nam...</td>\n      <td>206647</td>\n      <td>[{\"id\": 470, \"name\": \"spy\"}, {\"id\": 818, \"name...</td>\n      <td>en</td>\n      <td>A cryptic message from Bond’s past sends him o...</td>\n      <td>107.376788</td>\n      <td>[{\"iso_3166_1\": \"GB\", \"name\": \"United Kingdom\"...</td>\n      <td>Spectre</td>\n      <td>6.3</td>\n      <td>4466</td>\n      <td>[{\"cast_id\": 1, \"character\": \"James Bond\", \"cr...</td>\n      <td>[{\"credit_id\": \"54805967c3a36829b5002c41\", \"de...</td>\n      <td>6.239396</td>\n    </tr>\n    <tr>\n      <th>3</th>\n      <td>[{\"id\": 28, \"name\": \"Action\"}, {\"id\": 80, \"nam...</td>\n      <td>49026</td>\n      <td>[{\"id\": 849, \"name\": \"dc comics\"}, {\"id\": 853,...</td>\n      <td>en</td>\n      <td>Following the death of District Attorney Harve...</td>\n      <td>112.312950</td>\n      <td>[{\"iso_3166_1\": \"US\", \"name\": \"United States o...</td>\n      <td>The Dark Knight Rises</td>\n      <td>7.6</td>\n      <td>9106</td>\n      <td>[{\"cast_id\": 2, \"character\": \"Bruce Wayne / Ba...</td>\n      <td>[{\"credit_id\": \"52fe4781c3a36847f81398c3\", \"de...</td>\n      <td>7.346721</td>\n    </tr>\n    <tr>\n      <th>4</th>\n      <td>[{\"id\": 28, \"name\": \"Action\"}, {\"id\": 12, \"nam...</td>\n      <td>49529</td>\n      <td>[{\"id\": 818, \"name\": \"based on novel\"}, {\"id\":...</td>\n      <td>en</td>\n      <td>John Carter is a war-weary, former military ca...</td>\n      <td>43.926995</td>\n      <td>[{\"iso_3166_1\": \"US\", \"name\": \"United States o...</td>\n      <td>John Carter</td>\n      <td>6.1</td>\n      <td>2124</td>\n      <td>[{\"cast_id\": 5, \"character\": \"John Carter\", \"c...</td>\n      <td>[{\"credit_id\": \"52fe479ac3a36847f813eaa3\", \"de...</td>\n      <td>6.096368</td>\n    </tr>\n  </tbody>\n</table>\n</div>"
     },
     "execution_count": 20,
     "metadata": {},
     "output_type": "execute_result"
    }
   ],
   "source": [
    "# check data\n",
    "movies_filter_by_vote_count.head(5)"
   ],
   "metadata": {
    "collapsed": false,
    "pycharm": {
     "name": "#%%\n"
    }
   }
  },
  {
   "cell_type": "code",
   "execution_count": 21,
   "outputs": [
    {
     "data": {
      "text/plain": "                                                 genres      id  \\\n1881  [{\"id\": 18, \"name\": \"Drama\"}, {\"id\": 80, \"name...     278   \n662                       [{\"id\": 18, \"name\": \"Drama\"}]     550   \n65    [{\"id\": 18, \"name\": \"Drama\"}, {\"id\": 28, \"name...     155   \n3232  [{\"id\": 53, \"name\": \"Thriller\"}, {\"id\": 80, \"n...     680   \n96    [{\"id\": 28, \"name\": \"Action\"}, {\"id\": 53, \"nam...   27205   \n3337  [{\"id\": 18, \"name\": \"Drama\"}, {\"id\": 80, \"name...     238   \n95    [{\"id\": 12, \"name\": \"Adventure\"}, {\"id\": 18, \"...  157336   \n809   [{\"id\": 35, \"name\": \"Comedy\"}, {\"id\": 18, \"nam...      13   \n329   [{\"id\": 12, \"name\": \"Adventure\"}, {\"id\": 14, \"...     122   \n1990  [{\"id\": 12, \"name\": \"Adventure\"}, {\"id\": 28, \"...    1891   \n\n                                               keywords language  \\\n1881  [{\"id\": 378, \"name\": \"prison\"}, {\"id\": 417, \"n...       en   \n662   [{\"id\": 825, \"name\": \"support group\"}, {\"id\": ...       en   \n65    [{\"id\": 849, \"name\": \"dc comics\"}, {\"id\": 853,...       en   \n3232  [{\"id\": 396, \"name\": \"transporter\"}, {\"id\": 14...       en   \n96    [{\"id\": 1014, \"name\": \"loss of lover\"}, {\"id\":...       en   \n3337  [{\"id\": 131, \"name\": \"italy\"}, {\"id\": 699, \"na...       en   \n95    [{\"id\": 83, \"name\": \"saving the world\"}, {\"id\"...       en   \n809   [{\"id\": 422, \"name\": \"vietnam veteran\"}, {\"id\"...       en   \n329   [{\"id\": 603, \"name\": \"elves\"}, {\"id\": 606, \"na...       en   \n1990  [{\"id\": 526, \"name\": \"rebel\"}, {\"id\": 803, \"na...       en   \n\n                                               overview  popularity  \\\n1881  Framed in the 1940s for the double murder of h...  136.747729   \n662   A ticking-time-bomb insomniac and a slippery s...  146.757391   \n65    Batman raises the stakes in his war on crime. ...  187.322927   \n3232  A burger-loving hit man, his philosophical par...  121.463076   \n96    Cobb, a skilled thief who commits corporate es...  167.583710   \n3337  Spanning the years 1945 to 1955, a chronicle o...  143.659698   \n95    Interstellar chronicles the adventures of a gr...  724.247784   \n809   A man with a low IQ has accomplished great thi...  138.133331   \n329   Aragorn is revealed as the heir to the ancient...  123.630332   \n1990  The epic saga continues as Luke Skywalker, in ...   78.517830   \n\n                                              countries  \\\n1881  [{\"iso_3166_1\": \"US\", \"name\": \"United States o...   \n662   [{\"iso_3166_1\": \"DE\", \"name\": \"Germany\"}, {\"is...   \n65    [{\"iso_3166_1\": \"GB\", \"name\": \"United Kingdom\"...   \n3232  [{\"iso_3166_1\": \"US\", \"name\": \"United States o...   \n96    [{\"iso_3166_1\": \"GB\", \"name\": \"United Kingdom\"...   \n3337  [{\"iso_3166_1\": \"US\", \"name\": \"United States o...   \n95    [{\"iso_3166_1\": \"CA\", \"name\": \"Canada\"}, {\"iso...   \n809   [{\"iso_3166_1\": \"US\", \"name\": \"United States o...   \n329   [{\"iso_3166_1\": \"NZ\", \"name\": \"New Zealand\"}, ...   \n1990  [{\"iso_3166_1\": \"US\", \"name\": \"United States o...   \n\n                                              title  vote_average  vote_count  \\\n1881                       The Shawshank Redemption           8.5        8205   \n662                                      Fight Club           8.3        9413   \n65                                  The Dark Knight           8.2       12002   \n3232                                   Pulp Fiction           8.3        8428   \n96                                        Inception           8.1       13752   \n3337                                  The Godfather           8.4        5893   \n95                                     Interstellar           8.1       10867   \n809                                    Forrest Gump           8.2        7927   \n329   The Lord of the Rings: The Return of the King           8.1        8064   \n1990                        The Empire Strikes Back           8.2        5879   \n\n                                                   cast  \\\n1881  [{\"cast_id\": 3, \"character\": \"Andy Dufresne\", ...   \n662   [{\"cast_id\": 4, \"character\": \"The Narrator\", \"...   \n65    [{\"cast_id\": 35, \"character\": \"Bruce Wayne\", \"...   \n3232  [{\"cast_id\": 2, \"character\": \"Vincent Vega\", \"...   \n96    [{\"cast_id\": 1, \"character\": \"Dom Cobb\", \"cred...   \n3337  [{\"cast_id\": 5, \"character\": \"Don Vito Corleon...   \n95    [{\"cast_id\": 9, \"character\": \"Joseph Cooper\", ...   \n809   [{\"cast_id\": 7, \"character\": \"Forrest Gump\", \"...   \n329   [{\"cast_id\": 12, \"character\": \"Frodo Baggins\",...   \n1990  [{\"cast_id\": 7, \"character\": \"Luke Skywalker\",...   \n\n                                                   crew     score  \n1881  [{\"credit_id\": \"52fe4231c3a36847f800b153\", \"de...  8.059258  \n662   [{\"credit_id\": \"55731b8192514111610027d7\", \"de...  7.939256  \n65    [{\"credit_id\": \"55a0eb4a925141296b0010f8\", \"de...  7.920020  \n3232  [{\"credit_id\": \"52fe4269c3a36847f801caa3\", \"de...  7.904645  \n96    [{\"credit_id\": \"56e8462cc3a368408400354c\", \"de...  7.863239  \n3337  [{\"credit_id\": \"52fe422bc3a36847f80093c9\", \"de...  7.851236  \n95    [{\"credit_id\": \"52fe4bbf9251416c910e4801\", \"de...  7.809479  \n809   [{\"credit_id\": \"52fe420ec3a36847f800076b\", \"de...  7.803188  \n329   [{\"credit_id\": \"52fe421bc3a36847f80046c3\", \"de...  7.727243  \n1990  [{\"credit_id\": \"566e19f292514169e200d46f\", \"de...  7.697884  ",
      "text/html": "<div>\n<style scoped>\n    .dataframe tbody tr th:only-of-type {\n        vertical-align: middle;\n    }\n\n    .dataframe tbody tr th {\n        vertical-align: top;\n    }\n\n    .dataframe thead th {\n        text-align: right;\n    }\n</style>\n<table border=\"1\" class=\"dataframe\">\n  <thead>\n    <tr style=\"text-align: right;\">\n      <th></th>\n      <th>genres</th>\n      <th>id</th>\n      <th>keywords</th>\n      <th>language</th>\n      <th>overview</th>\n      <th>popularity</th>\n      <th>countries</th>\n      <th>title</th>\n      <th>vote_average</th>\n      <th>vote_count</th>\n      <th>cast</th>\n      <th>crew</th>\n      <th>score</th>\n    </tr>\n  </thead>\n  <tbody>\n    <tr>\n      <th>1881</th>\n      <td>[{\"id\": 18, \"name\": \"Drama\"}, {\"id\": 80, \"name...</td>\n      <td>278</td>\n      <td>[{\"id\": 378, \"name\": \"prison\"}, {\"id\": 417, \"n...</td>\n      <td>en</td>\n      <td>Framed in the 1940s for the double murder of h...</td>\n      <td>136.747729</td>\n      <td>[{\"iso_3166_1\": \"US\", \"name\": \"United States o...</td>\n      <td>The Shawshank Redemption</td>\n      <td>8.5</td>\n      <td>8205</td>\n      <td>[{\"cast_id\": 3, \"character\": \"Andy Dufresne\", ...</td>\n      <td>[{\"credit_id\": \"52fe4231c3a36847f800b153\", \"de...</td>\n      <td>8.059258</td>\n    </tr>\n    <tr>\n      <th>662</th>\n      <td>[{\"id\": 18, \"name\": \"Drama\"}]</td>\n      <td>550</td>\n      <td>[{\"id\": 825, \"name\": \"support group\"}, {\"id\": ...</td>\n      <td>en</td>\n      <td>A ticking-time-bomb insomniac and a slippery s...</td>\n      <td>146.757391</td>\n      <td>[{\"iso_3166_1\": \"DE\", \"name\": \"Germany\"}, {\"is...</td>\n      <td>Fight Club</td>\n      <td>8.3</td>\n      <td>9413</td>\n      <td>[{\"cast_id\": 4, \"character\": \"The Narrator\", \"...</td>\n      <td>[{\"credit_id\": \"55731b8192514111610027d7\", \"de...</td>\n      <td>7.939256</td>\n    </tr>\n    <tr>\n      <th>65</th>\n      <td>[{\"id\": 18, \"name\": \"Drama\"}, {\"id\": 28, \"name...</td>\n      <td>155</td>\n      <td>[{\"id\": 849, \"name\": \"dc comics\"}, {\"id\": 853,...</td>\n      <td>en</td>\n      <td>Batman raises the stakes in his war on crime. ...</td>\n      <td>187.322927</td>\n      <td>[{\"iso_3166_1\": \"GB\", \"name\": \"United Kingdom\"...</td>\n      <td>The Dark Knight</td>\n      <td>8.2</td>\n      <td>12002</td>\n      <td>[{\"cast_id\": 35, \"character\": \"Bruce Wayne\", \"...</td>\n      <td>[{\"credit_id\": \"55a0eb4a925141296b0010f8\", \"de...</td>\n      <td>7.920020</td>\n    </tr>\n    <tr>\n      <th>3232</th>\n      <td>[{\"id\": 53, \"name\": \"Thriller\"}, {\"id\": 80, \"n...</td>\n      <td>680</td>\n      <td>[{\"id\": 396, \"name\": \"transporter\"}, {\"id\": 14...</td>\n      <td>en</td>\n      <td>A burger-loving hit man, his philosophical par...</td>\n      <td>121.463076</td>\n      <td>[{\"iso_3166_1\": \"US\", \"name\": \"United States o...</td>\n      <td>Pulp Fiction</td>\n      <td>8.3</td>\n      <td>8428</td>\n      <td>[{\"cast_id\": 2, \"character\": \"Vincent Vega\", \"...</td>\n      <td>[{\"credit_id\": \"52fe4269c3a36847f801caa3\", \"de...</td>\n      <td>7.904645</td>\n    </tr>\n    <tr>\n      <th>96</th>\n      <td>[{\"id\": 28, \"name\": \"Action\"}, {\"id\": 53, \"nam...</td>\n      <td>27205</td>\n      <td>[{\"id\": 1014, \"name\": \"loss of lover\"}, {\"id\":...</td>\n      <td>en</td>\n      <td>Cobb, a skilled thief who commits corporate es...</td>\n      <td>167.583710</td>\n      <td>[{\"iso_3166_1\": \"GB\", \"name\": \"United Kingdom\"...</td>\n      <td>Inception</td>\n      <td>8.1</td>\n      <td>13752</td>\n      <td>[{\"cast_id\": 1, \"character\": \"Dom Cobb\", \"cred...</td>\n      <td>[{\"credit_id\": \"56e8462cc3a368408400354c\", \"de...</td>\n      <td>7.863239</td>\n    </tr>\n    <tr>\n      <th>3337</th>\n      <td>[{\"id\": 18, \"name\": \"Drama\"}, {\"id\": 80, \"name...</td>\n      <td>238</td>\n      <td>[{\"id\": 131, \"name\": \"italy\"}, {\"id\": 699, \"na...</td>\n      <td>en</td>\n      <td>Spanning the years 1945 to 1955, a chronicle o...</td>\n      <td>143.659698</td>\n      <td>[{\"iso_3166_1\": \"US\", \"name\": \"United States o...</td>\n      <td>The Godfather</td>\n      <td>8.4</td>\n      <td>5893</td>\n      <td>[{\"cast_id\": 5, \"character\": \"Don Vito Corleon...</td>\n      <td>[{\"credit_id\": \"52fe422bc3a36847f80093c9\", \"de...</td>\n      <td>7.851236</td>\n    </tr>\n    <tr>\n      <th>95</th>\n      <td>[{\"id\": 12, \"name\": \"Adventure\"}, {\"id\": 18, \"...</td>\n      <td>157336</td>\n      <td>[{\"id\": 83, \"name\": \"saving the world\"}, {\"id\"...</td>\n      <td>en</td>\n      <td>Interstellar chronicles the adventures of a gr...</td>\n      <td>724.247784</td>\n      <td>[{\"iso_3166_1\": \"CA\", \"name\": \"Canada\"}, {\"iso...</td>\n      <td>Interstellar</td>\n      <td>8.1</td>\n      <td>10867</td>\n      <td>[{\"cast_id\": 9, \"character\": \"Joseph Cooper\", ...</td>\n      <td>[{\"credit_id\": \"52fe4bbf9251416c910e4801\", \"de...</td>\n      <td>7.809479</td>\n    </tr>\n    <tr>\n      <th>809</th>\n      <td>[{\"id\": 35, \"name\": \"Comedy\"}, {\"id\": 18, \"nam...</td>\n      <td>13</td>\n      <td>[{\"id\": 422, \"name\": \"vietnam veteran\"}, {\"id\"...</td>\n      <td>en</td>\n      <td>A man with a low IQ has accomplished great thi...</td>\n      <td>138.133331</td>\n      <td>[{\"iso_3166_1\": \"US\", \"name\": \"United States o...</td>\n      <td>Forrest Gump</td>\n      <td>8.2</td>\n      <td>7927</td>\n      <td>[{\"cast_id\": 7, \"character\": \"Forrest Gump\", \"...</td>\n      <td>[{\"credit_id\": \"52fe420ec3a36847f800076b\", \"de...</td>\n      <td>7.803188</td>\n    </tr>\n    <tr>\n      <th>329</th>\n      <td>[{\"id\": 12, \"name\": \"Adventure\"}, {\"id\": 14, \"...</td>\n      <td>122</td>\n      <td>[{\"id\": 603, \"name\": \"elves\"}, {\"id\": 606, \"na...</td>\n      <td>en</td>\n      <td>Aragorn is revealed as the heir to the ancient...</td>\n      <td>123.630332</td>\n      <td>[{\"iso_3166_1\": \"NZ\", \"name\": \"New Zealand\"}, ...</td>\n      <td>The Lord of the Rings: The Return of the King</td>\n      <td>8.1</td>\n      <td>8064</td>\n      <td>[{\"cast_id\": 12, \"character\": \"Frodo Baggins\",...</td>\n      <td>[{\"credit_id\": \"52fe421bc3a36847f80046c3\", \"de...</td>\n      <td>7.727243</td>\n    </tr>\n    <tr>\n      <th>1990</th>\n      <td>[{\"id\": 12, \"name\": \"Adventure\"}, {\"id\": 28, \"...</td>\n      <td>1891</td>\n      <td>[{\"id\": 526, \"name\": \"rebel\"}, {\"id\": 803, \"na...</td>\n      <td>en</td>\n      <td>The epic saga continues as Luke Skywalker, in ...</td>\n      <td>78.517830</td>\n      <td>[{\"iso_3166_1\": \"US\", \"name\": \"United States o...</td>\n      <td>The Empire Strikes Back</td>\n      <td>8.2</td>\n      <td>5879</td>\n      <td>[{\"cast_id\": 7, \"character\": \"Luke Skywalker\",...</td>\n      <td>[{\"credit_id\": \"566e19f292514169e200d46f\", \"de...</td>\n      <td>7.697884</td>\n    </tr>\n  </tbody>\n</table>\n</div>"
     },
     "execution_count": 21,
     "metadata": {},
     "output_type": "execute_result"
    }
   ],
   "source": [
    "# find top trending movies based on score\n",
    "trending_movies = movies_filter_by_vote_count.sort_values('score', ascending=False)\n",
    "\n",
    "#Print the top 10 movies\n",
    "trending_movies.head(10)"
   ],
   "metadata": {
    "collapsed": false,
    "pycharm": {
     "name": "#%%\n"
    }
   }
  },
  {
   "cell_type": "code",
   "execution_count": 22,
   "outputs": [],
   "source": [
    "# find top movies based on popularity\n",
    "popular_movies = df.sort_values('popularity', ascending=False)"
   ],
   "metadata": {
    "collapsed": false,
    "pycharm": {
     "name": "#%%\n"
    }
   }
  },
  {
   "cell_type": "code",
   "execution_count": 23,
   "outputs": [
    {
     "data": {
      "text/plain": "en    4505\nfr      70\nes      32\nzh      27\nde      27\nhi      19\nja      16\nit      14\ncn      12\nru      11\nko      11\npt       9\nda       7\nsv       5\nnl       4\nfa       4\nth       3\nhe       3\nta       2\ncs       2\nro       2\nid       2\nar       2\nvi       1\nsl       1\nps       1\nno       1\nky       1\nhu       1\npl       1\naf       1\nnb       1\ntr       1\nis       1\nxx       1\nte       1\nel       1\nName: language, dtype: int64"
     },
     "execution_count": 23,
     "metadata": {},
     "output_type": "execute_result"
    }
   ],
   "source": [
    "# check value count for each language\n",
    "df['language'].value_counts()"
   ],
   "metadata": {
    "collapsed": false,
    "pycharm": {
     "name": "#%%\n"
    }
   }
  },
  {
   "cell_type": "code",
   "execution_count": 24,
   "outputs": [],
   "source": [
    "# filter movies based on language\n",
    "\n",
    "movies_filter_by_language = df.copy().loc[df['language'] == 'fr']\n",
    "movies_filter_by_language['score'] = movies_filter_by_language.apply(weighted_rating, axis=1)"
   ],
   "metadata": {
    "collapsed": false,
    "pycharm": {
     "name": "#%%\n"
    }
   }
  },
  {
   "cell_type": "code",
   "execution_count": 25,
   "outputs": [],
   "source": [
    "# find top k movies by language\n",
    "trending_movies_by_language = movies_filter_by_language.sort_values('score', ascending=False)\n",
    "trending_movies_by_language.head(10)\n",
    "\n",
    "# Returns the list top genres from genres object\n",
    "def to_genres(x):\n",
    "    if isinstance(x, list):\n",
    "        names = [i['name'] for i in x]\n",
    "        return names\n",
    "    #Return empty list in case of missing/malformed data\n",
    "    return []"
   ],
   "metadata": {
    "collapsed": false,
    "pycharm": {
     "name": "#%%\n"
    }
   }
  },
  {
   "cell_type": "code",
   "execution_count": 26,
   "outputs": [
    {
     "data": {
      "text/plain": "                                   genres      id  \\\n1881                       [Drama, Crime]     278   \n662                               [Drama]     550   \n65       [Drama, Action, Crime, Thriller]     155   \n3337                       [Drama, Crime]     238   \n95    [Adventure, Drama, Science Fiction]  157336   \n\n                                               keywords language  \\\n1881  [{\"id\": 378, \"name\": \"prison\"}, {\"id\": 417, \"n...       en   \n662   [{\"id\": 825, \"name\": \"support group\"}, {\"id\": ...       en   \n65    [{\"id\": 849, \"name\": \"dc comics\"}, {\"id\": 853,...       en   \n3337  [{\"id\": 131, \"name\": \"italy\"}, {\"id\": 699, \"na...       en   \n95    [{\"id\": 83, \"name\": \"saving the world\"}, {\"id\"...       en   \n\n                                               overview  popularity  \\\n1881  Framed in the 1940s for the double murder of h...  136.747729   \n662   A ticking-time-bomb insomniac and a slippery s...  146.757391   \n65    Batman raises the stakes in his war on crime. ...  187.322927   \n3337  Spanning the years 1945 to 1955, a chronicle o...  143.659698   \n95    Interstellar chronicles the adventures of a gr...  724.247784   \n\n                                              countries  \\\n1881  [{\"iso_3166_1\": \"US\", \"name\": \"United States o...   \n662   [{\"iso_3166_1\": \"DE\", \"name\": \"Germany\"}, {\"is...   \n65    [{\"iso_3166_1\": \"GB\", \"name\": \"United Kingdom\"...   \n3337  [{\"iso_3166_1\": \"US\", \"name\": \"United States o...   \n95    [{\"iso_3166_1\": \"CA\", \"name\": \"Canada\"}, {\"iso...   \n\n                         title  vote_average  vote_count  \\\n1881  The Shawshank Redemption           8.5        8205   \n662                 Fight Club           8.3        9413   \n65             The Dark Knight           8.2       12002   \n3337             The Godfather           8.4        5893   \n95                Interstellar           8.1       10867   \n\n                                                   cast  \\\n1881  [{\"cast_id\": 3, \"character\": \"Andy Dufresne\", ...   \n662   [{\"cast_id\": 4, \"character\": \"The Narrator\", \"...   \n65    [{\"cast_id\": 35, \"character\": \"Bruce Wayne\", \"...   \n3337  [{\"cast_id\": 5, \"character\": \"Don Vito Corleon...   \n95    [{\"cast_id\": 9, \"character\": \"Joseph Cooper\", ...   \n\n                                                   crew     score  \n1881  [{\"credit_id\": \"52fe4231c3a36847f800b153\", \"de...  8.059258  \n662   [{\"credit_id\": \"55731b8192514111610027d7\", \"de...  7.939256  \n65    [{\"credit_id\": \"55a0eb4a925141296b0010f8\", \"de...  7.920020  \n3337  [{\"credit_id\": \"52fe422bc3a36847f80093c9\", \"de...  7.851236  \n95    [{\"credit_id\": \"52fe4bbf9251416c910e4801\", \"de...  7.809479  ",
      "text/html": "<div>\n<style scoped>\n    .dataframe tbody tr th:only-of-type {\n        vertical-align: middle;\n    }\n\n    .dataframe tbody tr th {\n        vertical-align: top;\n    }\n\n    .dataframe thead th {\n        text-align: right;\n    }\n</style>\n<table border=\"1\" class=\"dataframe\">\n  <thead>\n    <tr style=\"text-align: right;\">\n      <th></th>\n      <th>genres</th>\n      <th>id</th>\n      <th>keywords</th>\n      <th>language</th>\n      <th>overview</th>\n      <th>popularity</th>\n      <th>countries</th>\n      <th>title</th>\n      <th>vote_average</th>\n      <th>vote_count</th>\n      <th>cast</th>\n      <th>crew</th>\n      <th>score</th>\n    </tr>\n  </thead>\n  <tbody>\n    <tr>\n      <th>1881</th>\n      <td>[Drama, Crime]</td>\n      <td>278</td>\n      <td>[{\"id\": 378, \"name\": \"prison\"}, {\"id\": 417, \"n...</td>\n      <td>en</td>\n      <td>Framed in the 1940s for the double murder of h...</td>\n      <td>136.747729</td>\n      <td>[{\"iso_3166_1\": \"US\", \"name\": \"United States o...</td>\n      <td>The Shawshank Redemption</td>\n      <td>8.5</td>\n      <td>8205</td>\n      <td>[{\"cast_id\": 3, \"character\": \"Andy Dufresne\", ...</td>\n      <td>[{\"credit_id\": \"52fe4231c3a36847f800b153\", \"de...</td>\n      <td>8.059258</td>\n    </tr>\n    <tr>\n      <th>662</th>\n      <td>[Drama]</td>\n      <td>550</td>\n      <td>[{\"id\": 825, \"name\": \"support group\"}, {\"id\": ...</td>\n      <td>en</td>\n      <td>A ticking-time-bomb insomniac and a slippery s...</td>\n      <td>146.757391</td>\n      <td>[{\"iso_3166_1\": \"DE\", \"name\": \"Germany\"}, {\"is...</td>\n      <td>Fight Club</td>\n      <td>8.3</td>\n      <td>9413</td>\n      <td>[{\"cast_id\": 4, \"character\": \"The Narrator\", \"...</td>\n      <td>[{\"credit_id\": \"55731b8192514111610027d7\", \"de...</td>\n      <td>7.939256</td>\n    </tr>\n    <tr>\n      <th>65</th>\n      <td>[Drama, Action, Crime, Thriller]</td>\n      <td>155</td>\n      <td>[{\"id\": 849, \"name\": \"dc comics\"}, {\"id\": 853,...</td>\n      <td>en</td>\n      <td>Batman raises the stakes in his war on crime. ...</td>\n      <td>187.322927</td>\n      <td>[{\"iso_3166_1\": \"GB\", \"name\": \"United Kingdom\"...</td>\n      <td>The Dark Knight</td>\n      <td>8.2</td>\n      <td>12002</td>\n      <td>[{\"cast_id\": 35, \"character\": \"Bruce Wayne\", \"...</td>\n      <td>[{\"credit_id\": \"55a0eb4a925141296b0010f8\", \"de...</td>\n      <td>7.920020</td>\n    </tr>\n    <tr>\n      <th>3337</th>\n      <td>[Drama, Crime]</td>\n      <td>238</td>\n      <td>[{\"id\": 131, \"name\": \"italy\"}, {\"id\": 699, \"na...</td>\n      <td>en</td>\n      <td>Spanning the years 1945 to 1955, a chronicle o...</td>\n      <td>143.659698</td>\n      <td>[{\"iso_3166_1\": \"US\", \"name\": \"United States o...</td>\n      <td>The Godfather</td>\n      <td>8.4</td>\n      <td>5893</td>\n      <td>[{\"cast_id\": 5, \"character\": \"Don Vito Corleon...</td>\n      <td>[{\"credit_id\": \"52fe422bc3a36847f80093c9\", \"de...</td>\n      <td>7.851236</td>\n    </tr>\n    <tr>\n      <th>95</th>\n      <td>[Adventure, Drama, Science Fiction]</td>\n      <td>157336</td>\n      <td>[{\"id\": 83, \"name\": \"saving the world\"}, {\"id\"...</td>\n      <td>en</td>\n      <td>Interstellar chronicles the adventures of a gr...</td>\n      <td>724.247784</td>\n      <td>[{\"iso_3166_1\": \"CA\", \"name\": \"Canada\"}, {\"iso...</td>\n      <td>Interstellar</td>\n      <td>8.1</td>\n      <td>10867</td>\n      <td>[{\"cast_id\": 9, \"character\": \"Joseph Cooper\", ...</td>\n      <td>[{\"credit_id\": \"52fe4bbf9251416c910e4801\", \"de...</td>\n      <td>7.809479</td>\n    </tr>\n  </tbody>\n</table>\n</div>"
     },
     "execution_count": 26,
     "metadata": {},
     "output_type": "execute_result"
    }
   ],
   "source": [
    "# convert genres to list\n",
    "from ast import literal_eval\n",
    "movies_by_genres = df.copy()\n",
    "movies_by_genres['genres'] = movies_by_genres['genres'].apply(literal_eval)\n",
    "movies_by_genres['genres'] = movies_by_genres['genres'].apply(to_genres)\n",
    "\n",
    "# Filter movies by specific genres\n",
    "movies_by_genres = movies_by_genres[movies_by_genres.loc[0:, 'genres'].apply(lambda row: 'Drama' in row)]\n",
    "\n",
    "# sort based on score\n",
    "movies_by_genres['score'] = movies_by_genres.apply(weighted_rating, axis=1)\n",
    "movies_by_genres = movies_by_genres.sort_values('score', ascending=False)\n",
    "\n",
    "movies_by_genres.head(5)"
   ],
   "metadata": {
    "collapsed": false,
    "pycharm": {
     "name": "#%%\n"
    }
   }
  },
  {
   "cell_type": "code",
   "execution_count": 27,
   "outputs": [],
   "source": [
    "def to_countries(x):\n",
    "    if isinstance(x, list):\n",
    "        names = [i['name'] for i in x]\n",
    "        return names\n",
    "    #Return empty list in case of missing/malformed data\n",
    "    return []"
   ],
   "metadata": {
    "collapsed": false,
    "pycharm": {
     "name": "#%%\n"
    }
   }
  },
  {
   "cell_type": "code",
   "execution_count": 28,
   "outputs": [
    {
     "data": {
      "text/plain": "                                                 genres     id  \\\n1881  [{\"id\": 18, \"name\": \"Drama\"}, {\"id\": 80, \"name...    278   \n662                       [{\"id\": 18, \"name\": \"Drama\"}]    550   \n65    [{\"id\": 18, \"name\": \"Drama\"}, {\"id\": 28, \"name...    155   \n3232  [{\"id\": 53, \"name\": \"Thriller\"}, {\"id\": 80, \"n...    680   \n96    [{\"id\": 28, \"name\": \"Action\"}, {\"id\": 53, \"nam...  27205   \n\n                                               keywords language  \\\n1881  [{\"id\": 378, \"name\": \"prison\"}, {\"id\": 417, \"n...       en   \n662   [{\"id\": 825, \"name\": \"support group\"}, {\"id\": ...       en   \n65    [{\"id\": 849, \"name\": \"dc comics\"}, {\"id\": 853,...       en   \n3232  [{\"id\": 396, \"name\": \"transporter\"}, {\"id\": 14...       en   \n96    [{\"id\": 1014, \"name\": \"loss of lover\"}, {\"id\":...       en   \n\n                                               overview  popularity  \\\n1881  Framed in the 1940s for the double murder of h...  136.747729   \n662   A ticking-time-bomb insomniac and a slippery s...  146.757391   \n65    Batman raises the stakes in his war on crime. ...  187.322927   \n3232  A burger-loving hit man, his philosophical par...  121.463076   \n96    Cobb, a skilled thief who commits corporate es...  167.583710   \n\n                                       countries                     title  \\\n1881                  [United States of America]  The Shawshank Redemption   \n662          [Germany, United States of America]                Fight Club   \n65    [United Kingdom, United States of America]           The Dark Knight   \n3232                  [United States of America]              Pulp Fiction   \n96    [United Kingdom, United States of America]                 Inception   \n\n      vote_average  vote_count  \\\n1881           8.5        8205   \n662            8.3        9413   \n65             8.2       12002   \n3232           8.3        8428   \n96             8.1       13752   \n\n                                                   cast  \\\n1881  [{\"cast_id\": 3, \"character\": \"Andy Dufresne\", ...   \n662   [{\"cast_id\": 4, \"character\": \"The Narrator\", \"...   \n65    [{\"cast_id\": 35, \"character\": \"Bruce Wayne\", \"...   \n3232  [{\"cast_id\": 2, \"character\": \"Vincent Vega\", \"...   \n96    [{\"cast_id\": 1, \"character\": \"Dom Cobb\", \"cred...   \n\n                                                   crew     score  \n1881  [{\"credit_id\": \"52fe4231c3a36847f800b153\", \"de...  8.059258  \n662   [{\"credit_id\": \"55731b8192514111610027d7\", \"de...  7.939256  \n65    [{\"credit_id\": \"55a0eb4a925141296b0010f8\", \"de...  7.920020  \n3232  [{\"credit_id\": \"52fe4269c3a36847f801caa3\", \"de...  7.904645  \n96    [{\"credit_id\": \"56e8462cc3a368408400354c\", \"de...  7.863239  ",
      "text/html": "<div>\n<style scoped>\n    .dataframe tbody tr th:only-of-type {\n        vertical-align: middle;\n    }\n\n    .dataframe tbody tr th {\n        vertical-align: top;\n    }\n\n    .dataframe thead th {\n        text-align: right;\n    }\n</style>\n<table border=\"1\" class=\"dataframe\">\n  <thead>\n    <tr style=\"text-align: right;\">\n      <th></th>\n      <th>genres</th>\n      <th>id</th>\n      <th>keywords</th>\n      <th>language</th>\n      <th>overview</th>\n      <th>popularity</th>\n      <th>countries</th>\n      <th>title</th>\n      <th>vote_average</th>\n      <th>vote_count</th>\n      <th>cast</th>\n      <th>crew</th>\n      <th>score</th>\n    </tr>\n  </thead>\n  <tbody>\n    <tr>\n      <th>1881</th>\n      <td>[{\"id\": 18, \"name\": \"Drama\"}, {\"id\": 80, \"name...</td>\n      <td>278</td>\n      <td>[{\"id\": 378, \"name\": \"prison\"}, {\"id\": 417, \"n...</td>\n      <td>en</td>\n      <td>Framed in the 1940s for the double murder of h...</td>\n      <td>136.747729</td>\n      <td>[United States of America]</td>\n      <td>The Shawshank Redemption</td>\n      <td>8.5</td>\n      <td>8205</td>\n      <td>[{\"cast_id\": 3, \"character\": \"Andy Dufresne\", ...</td>\n      <td>[{\"credit_id\": \"52fe4231c3a36847f800b153\", \"de...</td>\n      <td>8.059258</td>\n    </tr>\n    <tr>\n      <th>662</th>\n      <td>[{\"id\": 18, \"name\": \"Drama\"}]</td>\n      <td>550</td>\n      <td>[{\"id\": 825, \"name\": \"support group\"}, {\"id\": ...</td>\n      <td>en</td>\n      <td>A ticking-time-bomb insomniac and a slippery s...</td>\n      <td>146.757391</td>\n      <td>[Germany, United States of America]</td>\n      <td>Fight Club</td>\n      <td>8.3</td>\n      <td>9413</td>\n      <td>[{\"cast_id\": 4, \"character\": \"The Narrator\", \"...</td>\n      <td>[{\"credit_id\": \"55731b8192514111610027d7\", \"de...</td>\n      <td>7.939256</td>\n    </tr>\n    <tr>\n      <th>65</th>\n      <td>[{\"id\": 18, \"name\": \"Drama\"}, {\"id\": 28, \"name...</td>\n      <td>155</td>\n      <td>[{\"id\": 849, \"name\": \"dc comics\"}, {\"id\": 853,...</td>\n      <td>en</td>\n      <td>Batman raises the stakes in his war on crime. ...</td>\n      <td>187.322927</td>\n      <td>[United Kingdom, United States of America]</td>\n      <td>The Dark Knight</td>\n      <td>8.2</td>\n      <td>12002</td>\n      <td>[{\"cast_id\": 35, \"character\": \"Bruce Wayne\", \"...</td>\n      <td>[{\"credit_id\": \"55a0eb4a925141296b0010f8\", \"de...</td>\n      <td>7.920020</td>\n    </tr>\n    <tr>\n      <th>3232</th>\n      <td>[{\"id\": 53, \"name\": \"Thriller\"}, {\"id\": 80, \"n...</td>\n      <td>680</td>\n      <td>[{\"id\": 396, \"name\": \"transporter\"}, {\"id\": 14...</td>\n      <td>en</td>\n      <td>A burger-loving hit man, his philosophical par...</td>\n      <td>121.463076</td>\n      <td>[United States of America]</td>\n      <td>Pulp Fiction</td>\n      <td>8.3</td>\n      <td>8428</td>\n      <td>[{\"cast_id\": 2, \"character\": \"Vincent Vega\", \"...</td>\n      <td>[{\"credit_id\": \"52fe4269c3a36847f801caa3\", \"de...</td>\n      <td>7.904645</td>\n    </tr>\n    <tr>\n      <th>96</th>\n      <td>[{\"id\": 28, \"name\": \"Action\"}, {\"id\": 53, \"nam...</td>\n      <td>27205</td>\n      <td>[{\"id\": 1014, \"name\": \"loss of lover\"}, {\"id\":...</td>\n      <td>en</td>\n      <td>Cobb, a skilled thief who commits corporate es...</td>\n      <td>167.583710</td>\n      <td>[United Kingdom, United States of America]</td>\n      <td>Inception</td>\n      <td>8.1</td>\n      <td>13752</td>\n      <td>[{\"cast_id\": 1, \"character\": \"Dom Cobb\", \"cred...</td>\n      <td>[{\"credit_id\": \"56e8462cc3a368408400354c\", \"de...</td>\n      <td>7.863239</td>\n    </tr>\n  </tbody>\n</table>\n</div>"
     },
     "execution_count": 28,
     "metadata": {},
     "output_type": "execute_result"
    }
   ],
   "source": [
    "movies_by_counties = df.copy()\n",
    "movies_by_counties['countries'] = movies_by_counties['countries'].apply(literal_eval)\n",
    "movies_by_counties['countries'] = movies_by_counties['countries'].apply(to_countries)\n",
    "\n",
    "# Filter movies by specific genres\n",
    "movies_by_counties = movies_by_counties[movies_by_counties.loc[0:, 'countries'].apply(lambda row: 'United States of America' in row)]\n",
    "\n",
    "# sort based on score\n",
    "movies_by_counties['score'] = movies_by_counties.apply(weighted_rating, axis=1)\n",
    "movies_by_counties = movies_by_counties.sort_values('score', ascending=False)\n",
    "\n",
    "movies_by_counties.head(5)"
   ],
   "metadata": {
    "collapsed": false,
    "pycharm": {
     "name": "#%%\n"
    }
   }
  },
  {
   "cell_type": "markdown",
   "source": [
    "### Content Base Recommendation"
   ],
   "metadata": {
    "collapsed": false
   }
  },
  {
   "cell_type": "code",
   "execution_count": 29,
   "outputs": [],
   "source": [
    "content_based_movies = df.copy()\n",
    "\n",
    "features = ['cast', 'crew', 'keywords', 'genres']\n",
    "for feature in features:\n",
    "    content_based_movies[feature] = content_based_movies[feature].apply(literal_eval)"
   ],
   "metadata": {
    "collapsed": false,
    "pycharm": {
     "name": "#%%\n"
    }
   }
  },
  {
   "cell_type": "code",
   "execution_count": 30,
   "outputs": [],
   "source": [
    "def get_director(x):\n",
    "    for i in x:\n",
    "        if i['job'] == 'Director':\n",
    "            return i['name']\n",
    "    return np.nan\n",
    "\n",
    "# Returns the list top 3 elements or entire list; whichever is more.\n",
    "def get_list(x):\n",
    "    if isinstance(x, list):\n",
    "        names = [i['name'] for i in x]\n",
    "        #Check if more than 3 elements exist. If yes, return only first three. If no, return entire list.\n",
    "        if len(names) > 3:\n",
    "            names = names[:3]\n",
    "        return names\n",
    "    #Return empty list in case of missing/malformed data\n",
    "    return []"
   ],
   "metadata": {
    "collapsed": false,
    "pycharm": {
     "name": "#%%\n"
    }
   }
  },
  {
   "cell_type": "code",
   "execution_count": 31,
   "outputs": [],
   "source": [
    "# Define new director, cast, genres and keywords features that are in a suitable form.\n",
    "content_based_movies['director'] = content_based_movies['crew'].apply(get_director)\n",
    "\n",
    "features = ['cast', 'keywords', 'genres']\n",
    "for feature in features:\n",
    "    content_based_movies[feature] = content_based_movies[feature].apply(get_list)"
   ],
   "metadata": {
    "collapsed": false,
    "pycharm": {
     "name": "#%%\n"
    }
   }
  },
  {
   "cell_type": "code",
   "execution_count": 32,
   "outputs": [
    {
     "data": {
      "text/plain": "                                      title  \\\n0                                    Avatar   \n1  Pirates of the Caribbean: At World's End   \n2                                   Spectre   \n\n                                            overview  \\\n0  In the 22nd century, a paraplegic Marine is di...   \n1  Captain Barbossa, long believed to be dead, ha...   \n2  A cryptic message from Bond’s past sends him o...   \n\n                                               cast        director  \\\n0  [Sam Worthington, Zoe Saldana, Sigourney Weaver]   James Cameron   \n1     [Johnny Depp, Orlando Bloom, Keira Knightley]  Gore Verbinski   \n2      [Daniel Craig, Christoph Waltz, Léa Seydoux]      Sam Mendes   \n\n                              keywords                        genres  \n0   [culture clash, future, space war]  [Action, Adventure, Fantasy]  \n1   [ocean, drug abuse, exotic island]  [Adventure, Fantasy, Action]  \n2  [spy, based on novel, secret agent]    [Action, Adventure, Crime]  ",
      "text/html": "<div>\n<style scoped>\n    .dataframe tbody tr th:only-of-type {\n        vertical-align: middle;\n    }\n\n    .dataframe tbody tr th {\n        vertical-align: top;\n    }\n\n    .dataframe thead th {\n        text-align: right;\n    }\n</style>\n<table border=\"1\" class=\"dataframe\">\n  <thead>\n    <tr style=\"text-align: right;\">\n      <th></th>\n      <th>title</th>\n      <th>overview</th>\n      <th>cast</th>\n      <th>director</th>\n      <th>keywords</th>\n      <th>genres</th>\n    </tr>\n  </thead>\n  <tbody>\n    <tr>\n      <th>0</th>\n      <td>Avatar</td>\n      <td>In the 22nd century, a paraplegic Marine is di...</td>\n      <td>[Sam Worthington, Zoe Saldana, Sigourney Weaver]</td>\n      <td>James Cameron</td>\n      <td>[culture clash, future, space war]</td>\n      <td>[Action, Adventure, Fantasy]</td>\n    </tr>\n    <tr>\n      <th>1</th>\n      <td>Pirates of the Caribbean: At World's End</td>\n      <td>Captain Barbossa, long believed to be dead, ha...</td>\n      <td>[Johnny Depp, Orlando Bloom, Keira Knightley]</td>\n      <td>Gore Verbinski</td>\n      <td>[ocean, drug abuse, exotic island]</td>\n      <td>[Adventure, Fantasy, Action]</td>\n    </tr>\n    <tr>\n      <th>2</th>\n      <td>Spectre</td>\n      <td>A cryptic message from Bond’s past sends him o...</td>\n      <td>[Daniel Craig, Christoph Waltz, Léa Seydoux]</td>\n      <td>Sam Mendes</td>\n      <td>[spy, based on novel, secret agent]</td>\n      <td>[Action, Adventure, Crime]</td>\n    </tr>\n  </tbody>\n</table>\n</div>"
     },
     "execution_count": 32,
     "metadata": {},
     "output_type": "execute_result"
    }
   ],
   "source": [
    "content_based_movies[['title', 'overview', 'cast', 'director', 'keywords', 'genres']].head(3)"
   ],
   "metadata": {
    "collapsed": false,
    "pycharm": {
     "name": "#%%\n"
    }
   }
  },
  {
   "cell_type": "code",
   "execution_count": 33,
   "outputs": [],
   "source": [
    "# clean data\n",
    "def clean_data(x):\n",
    "    if isinstance(x, list):\n",
    "        return [str.lower(i.replace(\" \", \"\")) for i in x]\n",
    "    else:\n",
    "        #Check if director exists. If not, return empty string\n",
    "        if isinstance(x, str):\n",
    "            return str.lower(x.replace(\" \", \"\"))\n",
    "        else:\n",
    "            return ''"
   ],
   "metadata": {
    "collapsed": false,
    "pycharm": {
     "name": "#%%\n"
    }
   }
  },
  {
   "cell_type": "code",
   "execution_count": 34,
   "outputs": [],
   "source": [
    "# clean data\n",
    "for feature in ['cast', 'director', 'keywords', 'genres']:\n",
    "    content_based_movies[feature] = content_based_movies[feature].apply(clean_data)"
   ],
   "metadata": {
    "collapsed": false,
    "pycharm": {
     "name": "#%%\n"
    }
   }
  },
  {
   "cell_type": "code",
   "execution_count": 35,
   "outputs": [],
   "source": [
    "def create_soup(x):\n",
    "    return ' '.join(x['keywords']) + ' ' + ' '.join(x['cast']) + ' ' + x['director'] + ' ' + ' '.join(x['genres'])+ ' ' + x['overview']"
   ],
   "metadata": {
    "collapsed": false,
    "pycharm": {
     "name": "#%%\n"
    }
   }
  },
  {
   "cell_type": "code",
   "execution_count": 36,
   "outputs": [],
   "source": [
    "content_based_movies['soup'] = content_based_movies.apply(create_soup, axis=1)"
   ],
   "metadata": {
    "collapsed": false,
    "pycharm": {
     "name": "#%%\n"
    }
   }
  },
  {
   "cell_type": "code",
   "execution_count": 37,
   "outputs": [],
   "source": [
    "# Import CountVectorizer and create the count matrix\n",
    "from sklearn.feature_extraction.text import CountVectorizer\n",
    "\n",
    "count = CountVectorizer(stop_words='english')\n",
    "count_matrix = count.fit_transform(content_based_movies['soup'])"
   ],
   "metadata": {
    "collapsed": false,
    "pycharm": {
     "name": "#%%\n"
    }
   }
  },
  {
   "cell_type": "code",
   "execution_count": 38,
   "outputs": [],
   "source": [
    "# Compute the Cosine Similarity matrix based on the count_matrix\n",
    "from sklearn.metrics.pairwise import cosine_similarity\n",
    "\n",
    "cosine_sim = cosine_similarity(count_matrix, count_matrix)"
   ],
   "metadata": {
    "collapsed": false,
    "pycharm": {
     "name": "#%%\n"
    }
   }
  },
  {
   "cell_type": "code",
   "execution_count": 39,
   "outputs": [],
   "source": [
    "content_based_movies = content_based_movies.reset_index()\n",
    "indices = pd.Series(content_based_movies.index, index=content_based_movies['title'])"
   ],
   "metadata": {
    "collapsed": false,
    "pycharm": {
     "name": "#%%\n"
    }
   }
  },
  {
   "cell_type": "code",
   "execution_count": 40,
   "outputs": [],
   "source": [
    "def get_recommendations(title, cosine_sim=cosine_sim):\n",
    "    # Get the index of the movie that matches the title\n",
    "    idx = indices[title]\n",
    "\n",
    "    # Get the pairwsie similarity scores of all movies with that movie\n",
    "    sim_scores = list(enumerate(cosine_sim[idx]))\n",
    "\n",
    "    # Sort the movies based on the similarity scores\n",
    "    sim_scores = sorted(sim_scores, key=lambda x: x[1], reverse=True)\n",
    "\n",
    "    # Get the scores of the 10 most similar movies\n",
    "    sim_scores = sim_scores[1:11]\n",
    "\n",
    "    # Get the movie indices\n",
    "    movie_indices = [i[0] for i in sim_scores]\n",
    "\n",
    "    # Return the top 10 most similar movies\n",
    "    return content_based_movies['title'].iloc[movie_indices]"
   ],
   "metadata": {
    "collapsed": false,
    "pycharm": {
     "name": "#%%\n"
    }
   }
  },
  {
   "cell_type": "code",
   "execution_count": 41,
   "outputs": [
    {
     "data": {
      "text/plain": "65                              The Dark Knight\n299                              Batman Forever\n119                               Batman Begins\n1359                                     Batman\n428                              Batman Returns\n210                              Batman & Robin\n2507                                  Slow Burn\n3854    Batman: The Dark Knight Returns, Part 2\n590                                   The Siege\n238                Teenage Mutant Ninja Turtles\nName: title, dtype: object"
     },
     "execution_count": 41,
     "metadata": {},
     "output_type": "execute_result"
    }
   ],
   "source": [
    "get_recommendations('The Dark Knight Rises')"
   ],
   "metadata": {
    "collapsed": false,
    "pycharm": {
     "name": "#%%\n"
    }
   }
  },
  {
   "cell_type": "code",
   "execution_count": 42,
   "outputs": [
    {
     "data": {
      "text/plain": "2731      The Godfather: Part II\n1873                  Blood Ties\n867      The Godfather: Part III\n3727                  Easy Money\n4226                 Nine Queens\n444            Road to Perdition\n4638    Amidst the Devil's Wings\n3726                  Sexy Beast\n1635     The Replacement Killers\n1247             City By The Sea\nName: title, dtype: object"
     },
     "execution_count": 42,
     "metadata": {},
     "output_type": "execute_result"
    }
   ],
   "source": [
    "get_recommendations('The Godfather')"
   ],
   "metadata": {
    "collapsed": false,
    "pycharm": {
     "name": "#%%\n"
    }
   }
  },
  {
   "cell_type": "markdown",
   "source": [
    "### Personalized Recommendation with SVD"
   ],
   "metadata": {
    "collapsed": false,
    "pycharm": {
     "name": "#%% md\n"
    }
   }
  },
  {
   "cell_type": "code",
   "execution_count": 43,
   "outputs": [],
   "source": [
    "# read data\n",
    "from surprise import Reader, Dataset, SVD\n",
    "from surprise.model_selection import cross_validate\n",
    "ratings = pd.read_csv('/Users/Faisal/Development/recommender-storage/data/ratings_small.csv')"
   ],
   "metadata": {
    "collapsed": false,
    "pycharm": {
     "name": "#%%\n"
    }
   }
  },
  {
   "cell_type": "code",
   "execution_count": 44,
   "outputs": [
    {
     "data": {
      "text/plain": "   userId  movieId  rating   timestamp\n0       1       31     2.5  1260759144\n1       1     1029     3.0  1260759179\n2       1     1061     3.0  1260759182\n3       1     1129     2.0  1260759185\n4       1     1172     4.0  1260759205",
      "text/html": "<div>\n<style scoped>\n    .dataframe tbody tr th:only-of-type {\n        vertical-align: middle;\n    }\n\n    .dataframe tbody tr th {\n        vertical-align: top;\n    }\n\n    .dataframe thead th {\n        text-align: right;\n    }\n</style>\n<table border=\"1\" class=\"dataframe\">\n  <thead>\n    <tr style=\"text-align: right;\">\n      <th></th>\n      <th>userId</th>\n      <th>movieId</th>\n      <th>rating</th>\n      <th>timestamp</th>\n    </tr>\n  </thead>\n  <tbody>\n    <tr>\n      <th>0</th>\n      <td>1</td>\n      <td>31</td>\n      <td>2.5</td>\n      <td>1260759144</td>\n    </tr>\n    <tr>\n      <th>1</th>\n      <td>1</td>\n      <td>1029</td>\n      <td>3.0</td>\n      <td>1260759179</td>\n    </tr>\n    <tr>\n      <th>2</th>\n      <td>1</td>\n      <td>1061</td>\n      <td>3.0</td>\n      <td>1260759182</td>\n    </tr>\n    <tr>\n      <th>3</th>\n      <td>1</td>\n      <td>1129</td>\n      <td>2.0</td>\n      <td>1260759185</td>\n    </tr>\n    <tr>\n      <th>4</th>\n      <td>1</td>\n      <td>1172</td>\n      <td>4.0</td>\n      <td>1260759205</td>\n    </tr>\n  </tbody>\n</table>\n</div>"
     },
     "execution_count": 44,
     "metadata": {},
     "output_type": "execute_result"
    }
   ],
   "source": [
    "# check data\n",
    "ratings.head()"
   ],
   "metadata": {
    "collapsed": false,
    "pycharm": {
     "name": "#%%\n"
    }
   }
  },
  {
   "cell_type": "code",
   "execution_count": 45,
   "outputs": [],
   "source": [
    "# load data\n",
    "data = Dataset.load_from_df(ratings[['userId', 'movieId', 'rating']], Reader())"
   ],
   "metadata": {
    "collapsed": false,
    "pycharm": {
     "name": "#%%\n"
    }
   }
  },
  {
   "cell_type": "code",
   "execution_count": 46,
   "outputs": [
    {
     "name": "stdout",
     "output_type": "stream",
     "text": [
      "Evaluating RMSE, MAE of algorithm SVD on 5 split(s).\n",
      "\n",
      "                  Fold 1  Fold 2  Fold 3  Fold 4  Fold 5  Mean    Std     \n",
      "RMSE (testset)    0.9023  0.8904  0.9008  0.8968  0.8963  0.8973  0.0041  \n",
      "MAE (testset)     0.6975  0.6843  0.6888  0.6921  0.6906  0.6907  0.0043  \n",
      "Fit time          6.95    7.00    6.51    7.42    7.63    7.10    0.39    \n",
      "Test time         0.31    0.16    0.29    0.17    0.41    0.27    0.09    \n"
     ]
    },
    {
     "data": {
      "text/plain": "<surprise.prediction_algorithms.matrix_factorization.SVD at 0x7fa4e510a8e0>"
     },
     "execution_count": 46,
     "metadata": {},
     "output_type": "execute_result"
    }
   ],
   "source": [
    "# create svd\n",
    "svd = SVD()\n",
    "\n",
    "# cross validation\n",
    "cross_validate(svd, data, measures=['RMSE', 'MAE'], cv=5, verbose=True)\n",
    "\n",
    "# fit data\n",
    "trainset = data.build_full_trainset()\n",
    "svd.fit(trainset)"
   ],
   "metadata": {
    "collapsed": false,
    "pycharm": {
     "name": "#%%\n"
    }
   }
  },
  {
   "cell_type": "code",
   "execution_count": 47,
   "outputs": [
    {
     "data": {
      "text/plain": "    userId  movieId  rating   timestamp\n0        1       31     2.5  1260759144\n1        1     1029     3.0  1260759179\n2        1     1061     3.0  1260759182\n3        1     1129     2.0  1260759185\n4        1     1172     4.0  1260759205\n5        1     1263     2.0  1260759151\n6        1     1287     2.0  1260759187\n7        1     1293     2.0  1260759148\n8        1     1339     3.5  1260759125\n9        1     1343     2.0  1260759131\n10       1     1371     2.5  1260759135\n11       1     1405     1.0  1260759203\n12       1     1953     4.0  1260759191\n13       1     2105     4.0  1260759139\n14       1     2150     3.0  1260759194\n15       1     2193     2.0  1260759198\n16       1     2294     2.0  1260759108\n17       1     2455     2.5  1260759113\n18       1     2968     1.0  1260759200\n19       1     3671     3.0  1260759117",
      "text/html": "<div>\n<style scoped>\n    .dataframe tbody tr th:only-of-type {\n        vertical-align: middle;\n    }\n\n    .dataframe tbody tr th {\n        vertical-align: top;\n    }\n\n    .dataframe thead th {\n        text-align: right;\n    }\n</style>\n<table border=\"1\" class=\"dataframe\">\n  <thead>\n    <tr style=\"text-align: right;\">\n      <th></th>\n      <th>userId</th>\n      <th>movieId</th>\n      <th>rating</th>\n      <th>timestamp</th>\n    </tr>\n  </thead>\n  <tbody>\n    <tr>\n      <th>0</th>\n      <td>1</td>\n      <td>31</td>\n      <td>2.5</td>\n      <td>1260759144</td>\n    </tr>\n    <tr>\n      <th>1</th>\n      <td>1</td>\n      <td>1029</td>\n      <td>3.0</td>\n      <td>1260759179</td>\n    </tr>\n    <tr>\n      <th>2</th>\n      <td>1</td>\n      <td>1061</td>\n      <td>3.0</td>\n      <td>1260759182</td>\n    </tr>\n    <tr>\n      <th>3</th>\n      <td>1</td>\n      <td>1129</td>\n      <td>2.0</td>\n      <td>1260759185</td>\n    </tr>\n    <tr>\n      <th>4</th>\n      <td>1</td>\n      <td>1172</td>\n      <td>4.0</td>\n      <td>1260759205</td>\n    </tr>\n    <tr>\n      <th>5</th>\n      <td>1</td>\n      <td>1263</td>\n      <td>2.0</td>\n      <td>1260759151</td>\n    </tr>\n    <tr>\n      <th>6</th>\n      <td>1</td>\n      <td>1287</td>\n      <td>2.0</td>\n      <td>1260759187</td>\n    </tr>\n    <tr>\n      <th>7</th>\n      <td>1</td>\n      <td>1293</td>\n      <td>2.0</td>\n      <td>1260759148</td>\n    </tr>\n    <tr>\n      <th>8</th>\n      <td>1</td>\n      <td>1339</td>\n      <td>3.5</td>\n      <td>1260759125</td>\n    </tr>\n    <tr>\n      <th>9</th>\n      <td>1</td>\n      <td>1343</td>\n      <td>2.0</td>\n      <td>1260759131</td>\n    </tr>\n    <tr>\n      <th>10</th>\n      <td>1</td>\n      <td>1371</td>\n      <td>2.5</td>\n      <td>1260759135</td>\n    </tr>\n    <tr>\n      <th>11</th>\n      <td>1</td>\n      <td>1405</td>\n      <td>1.0</td>\n      <td>1260759203</td>\n    </tr>\n    <tr>\n      <th>12</th>\n      <td>1</td>\n      <td>1953</td>\n      <td>4.0</td>\n      <td>1260759191</td>\n    </tr>\n    <tr>\n      <th>13</th>\n      <td>1</td>\n      <td>2105</td>\n      <td>4.0</td>\n      <td>1260759139</td>\n    </tr>\n    <tr>\n      <th>14</th>\n      <td>1</td>\n      <td>2150</td>\n      <td>3.0</td>\n      <td>1260759194</td>\n    </tr>\n    <tr>\n      <th>15</th>\n      <td>1</td>\n      <td>2193</td>\n      <td>2.0</td>\n      <td>1260759198</td>\n    </tr>\n    <tr>\n      <th>16</th>\n      <td>1</td>\n      <td>2294</td>\n      <td>2.0</td>\n      <td>1260759108</td>\n    </tr>\n    <tr>\n      <th>17</th>\n      <td>1</td>\n      <td>2455</td>\n      <td>2.5</td>\n      <td>1260759113</td>\n    </tr>\n    <tr>\n      <th>18</th>\n      <td>1</td>\n      <td>2968</td>\n      <td>1.0</td>\n      <td>1260759200</td>\n    </tr>\n    <tr>\n      <th>19</th>\n      <td>1</td>\n      <td>3671</td>\n      <td>3.0</td>\n      <td>1260759117</td>\n    </tr>\n  </tbody>\n</table>\n</div>"
     },
     "execution_count": 47,
     "metadata": {},
     "output_type": "execute_result"
    }
   ],
   "source": [
    "# check user 1's rating\n",
    "ratings[ratings['userId'] == 1]"
   ],
   "metadata": {
    "collapsed": false,
    "pycharm": {
     "name": "#%%\n"
    }
   }
  },
  {
   "cell_type": "code",
   "execution_count": 48,
   "outputs": [],
   "source": [
    "import pickle\n",
    "outfile = open('/Users/Faisal/Development/recommender-storage/models/svd.model', 'wb')\n",
    "pickle.dump(svd, outfile)\n"
   ],
   "metadata": {
    "collapsed": false,
    "pycharm": {
     "name": "#%%\n"
    }
   }
  },
  {
   "cell_type": "code",
   "execution_count": 49,
   "outputs": [
    {
     "data": {
      "text/plain": "Prediction(uid=1, iid=302, r_ui=3, est=2.661673592732988, details={'was_impossible': False})"
     },
     "execution_count": 49,
     "metadata": {},
     "output_type": "execute_result"
    }
   ],
   "source": [
    "svd.predict(1, 302, 3)\n"
   ],
   "metadata": {
    "collapsed": false,
    "pycharm": {
     "name": "#%%\n"
    }
   }
  },
  {
   "cell_type": "code",
   "execution_count": 50,
   "outputs": [
    {
     "data": {
      "text/plain": "                                                 genres   id  \\\n3303  [{\"id\": 53, \"name\": \"Thriller\"}, {\"id\": 80, \"n...  302   \n\n                                               keywords language  \\\n3303  [{\"id\": 212, \"name\": \"london england\"}, {\"id\":...       en   \n\n                                               overview  popularity  \\\n3303  In the middle of this amusing thriller is a re...   11.000654   \n\n                                              countries          title  \\\n3303  [{\"iso_3166_1\": \"FR\", \"name\": \"France\"}, {\"iso...  Swimming Pool   \n\n      vote_average  vote_count  \\\n3303           6.4         153   \n\n                                                   cast  \\\n3303  [{\"cast_id\": 4, \"character\": \"Sarah Morton\", \"...   \n\n                                                   crew  \n3303  [{\"credit_id\": \"52fe4234c3a36847f800c159\", \"de...  ",
      "text/html": "<div>\n<style scoped>\n    .dataframe tbody tr th:only-of-type {\n        vertical-align: middle;\n    }\n\n    .dataframe tbody tr th {\n        vertical-align: top;\n    }\n\n    .dataframe thead th {\n        text-align: right;\n    }\n</style>\n<table border=\"1\" class=\"dataframe\">\n  <thead>\n    <tr style=\"text-align: right;\">\n      <th></th>\n      <th>genres</th>\n      <th>id</th>\n      <th>keywords</th>\n      <th>language</th>\n      <th>overview</th>\n      <th>popularity</th>\n      <th>countries</th>\n      <th>title</th>\n      <th>vote_average</th>\n      <th>vote_count</th>\n      <th>cast</th>\n      <th>crew</th>\n    </tr>\n  </thead>\n  <tbody>\n    <tr>\n      <th>3303</th>\n      <td>[{\"id\": 53, \"name\": \"Thriller\"}, {\"id\": 80, \"n...</td>\n      <td>302</td>\n      <td>[{\"id\": 212, \"name\": \"london england\"}, {\"id\":...</td>\n      <td>en</td>\n      <td>In the middle of this amusing thriller is a re...</td>\n      <td>11.000654</td>\n      <td>[{\"iso_3166_1\": \"FR\", \"name\": \"France\"}, {\"iso...</td>\n      <td>Swimming Pool</td>\n      <td>6.4</td>\n      <td>153</td>\n      <td>[{\"cast_id\": 4, \"character\": \"Sarah Morton\", \"...</td>\n      <td>[{\"credit_id\": \"52fe4234c3a36847f800c159\", \"de...</td>\n    </tr>\n  </tbody>\n</table>\n</div>"
     },
     "execution_count": 50,
     "metadata": {},
     "output_type": "execute_result"
    }
   ],
   "source": [
    "df[df['id'] == 302]"
   ],
   "metadata": {
    "collapsed": false,
    "pycharm": {
     "name": "#%%\n"
    }
   }
  }
 ],
 "metadata": {
  "kernelspec": {
   "display_name": "Python 3",
   "language": "python",
   "name": "python3"
  },
  "language_info": {
   "codemirror_mode": {
    "name": "ipython",
    "version": 2
   },
   "file_extension": ".py",
   "mimetype": "text/x-python",
   "name": "python",
   "nbconvert_exporter": "python",
   "pygments_lexer": "ipython2",
   "version": "2.7.6"
  }
 },
 "nbformat": 4,
 "nbformat_minor": 0
}