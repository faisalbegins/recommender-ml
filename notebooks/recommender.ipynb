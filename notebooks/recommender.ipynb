{
 "cells": [
  {
   "cell_type": "markdown",
   "source": [
    "### Exploratory Data Analysis"
   ],
   "metadata": {
    "collapsed": false,
    "pycharm": {
     "name": "#%% md\n"
    }
   }
  },
  {
   "cell_type": "code",
   "execution_count": 155,
   "metadata": {
    "collapsed": true
   },
   "outputs": [],
   "source": [
    "# read data from csv\n",
    "from pipelines import read_data\n",
    "credits_df, movies_df = read_data.execute()"
   ]
  },
  {
   "cell_type": "code",
   "execution_count": 156,
   "outputs": [
    {
     "data": {
      "text/plain": "Index(['id', 'tittle', 'cast', 'crew'], dtype='object')"
     },
     "execution_count": 156,
     "metadata": {},
     "output_type": "execute_result"
    }
   ],
   "source": [
    "# change column name movie_id to id so that we can merge both data frame based on id\n",
    "from pipelines import rename_column\n",
    "rename_column.execute(credits_df)\n",
    "credits_df.columns"
   ],
   "metadata": {
    "collapsed": false,
    "pycharm": {
     "name": "#%%\n"
    }
   }
  },
  {
   "cell_type": "code",
   "execution_count": 157,
   "outputs": [
    {
     "data": {
      "text/plain": "      budget                                             genres  \\\n0  237000000  [{\"id\": 28, \"name\": \"Action\"}, {\"id\": 12, \"nam...   \n1  300000000  [{\"id\": 12, \"name\": \"Adventure\"}, {\"id\": 14, \"...   \n2  245000000  [{\"id\": 28, \"name\": \"Action\"}, {\"id\": 12, \"nam...   \n3  250000000  [{\"id\": 28, \"name\": \"Action\"}, {\"id\": 80, \"nam...   \n4  260000000  [{\"id\": 28, \"name\": \"Action\"}, {\"id\": 12, \"nam...   \n\n                                       homepage      id  \\\n0                   http://www.avatarmovie.com/   19995   \n1  http://disney.go.com/disneypictures/pirates/     285   \n2   http://www.sonypictures.com/movies/spectre/  206647   \n3            http://www.thedarkknightrises.com/   49026   \n4          http://movies.disney.com/john-carter   49529   \n\n                                            keywords original_language  \\\n0  [{\"id\": 1463, \"name\": \"culture clash\"}, {\"id\":...                en   \n1  [{\"id\": 270, \"name\": \"ocean\"}, {\"id\": 726, \"na...                en   \n2  [{\"id\": 470, \"name\": \"spy\"}, {\"id\": 818, \"name...                en   \n3  [{\"id\": 849, \"name\": \"dc comics\"}, {\"id\": 853,...                en   \n4  [{\"id\": 818, \"name\": \"based on novel\"}, {\"id\":...                en   \n\n                             original_title  \\\n0                                    Avatar   \n1  Pirates of the Caribbean: At World's End   \n2                                   Spectre   \n3                     The Dark Knight Rises   \n4                               John Carter   \n\n                                            overview  popularity  \\\n0  In the 22nd century, a paraplegic Marine is di...  150.437577   \n1  Captain Barbossa, long believed to be dead, ha...  139.082615   \n2  A cryptic message from Bond’s past sends him o...  107.376788   \n3  Following the death of District Attorney Harve...  112.312950   \n4  John Carter is a war-weary, former military ca...   43.926995   \n\n                                production_companies  ... runtime  \\\n0  [{\"name\": \"Ingenious Film Partners\", \"id\": 289...  ...   162.0   \n1  [{\"name\": \"Walt Disney Pictures\", \"id\": 2}, {\"...  ...   169.0   \n2  [{\"name\": \"Columbia Pictures\", \"id\": 5}, {\"nam...  ...   148.0   \n3  [{\"name\": \"Legendary Pictures\", \"id\": 923}, {\"...  ...   165.0   \n4        [{\"name\": \"Walt Disney Pictures\", \"id\": 2}]  ...   132.0   \n\n                                    spoken_languages    status  \\\n0  [{\"iso_639_1\": \"en\", \"name\": \"English\"}, {\"iso...  Released   \n1           [{\"iso_639_1\": \"en\", \"name\": \"English\"}]  Released   \n2  [{\"iso_639_1\": \"fr\", \"name\": \"Fran\\u00e7ais\"},...  Released   \n3           [{\"iso_639_1\": \"en\", \"name\": \"English\"}]  Released   \n4           [{\"iso_639_1\": \"en\", \"name\": \"English\"}]  Released   \n\n                                          tagline  \\\n0                     Enter the World of Pandora.   \n1  At the end of the world, the adventure begins.   \n2                           A Plan No One Escapes   \n3                                 The Legend Ends   \n4            Lost in our world, found in another.   \n\n                                      title vote_average vote_count  \\\n0                                    Avatar          7.2      11800   \n1  Pirates of the Caribbean: At World's End          6.9       4500   \n2                                   Spectre          6.3       4466   \n3                     The Dark Knight Rises          7.6       9106   \n4                               John Carter          6.1       2124   \n\n                                     tittle  \\\n0                                    Avatar   \n1  Pirates of the Caribbean: At World's End   \n2                                   Spectre   \n3                     The Dark Knight Rises   \n4                               John Carter   \n\n                                                cast  \\\n0  [{\"cast_id\": 242, \"character\": \"Jake Sully\", \"...   \n1  [{\"cast_id\": 4, \"character\": \"Captain Jack Spa...   \n2  [{\"cast_id\": 1, \"character\": \"James Bond\", \"cr...   \n3  [{\"cast_id\": 2, \"character\": \"Bruce Wayne / Ba...   \n4  [{\"cast_id\": 5, \"character\": \"John Carter\", \"c...   \n\n                                                crew  \n0  [{\"credit_id\": \"52fe48009251416c750aca23\", \"de...  \n1  [{\"credit_id\": \"52fe4232c3a36847f800b579\", \"de...  \n2  [{\"credit_id\": \"54805967c3a36829b5002c41\", \"de...  \n3  [{\"credit_id\": \"52fe4781c3a36847f81398c3\", \"de...  \n4  [{\"credit_id\": \"52fe479ac3a36847f813eaa3\", \"de...  \n\n[5 rows x 23 columns]",
      "text/html": "<div>\n<style scoped>\n    .dataframe tbody tr th:only-of-type {\n        vertical-align: middle;\n    }\n\n    .dataframe tbody tr th {\n        vertical-align: top;\n    }\n\n    .dataframe thead th {\n        text-align: right;\n    }\n</style>\n<table border=\"1\" class=\"dataframe\">\n  <thead>\n    <tr style=\"text-align: right;\">\n      <th></th>\n      <th>budget</th>\n      <th>genres</th>\n      <th>homepage</th>\n      <th>id</th>\n      <th>keywords</th>\n      <th>original_language</th>\n      <th>original_title</th>\n      <th>overview</th>\n      <th>popularity</th>\n      <th>production_companies</th>\n      <th>...</th>\n      <th>runtime</th>\n      <th>spoken_languages</th>\n      <th>status</th>\n      <th>tagline</th>\n      <th>title</th>\n      <th>vote_average</th>\n      <th>vote_count</th>\n      <th>tittle</th>\n      <th>cast</th>\n      <th>crew</th>\n    </tr>\n  </thead>\n  <tbody>\n    <tr>\n      <th>0</th>\n      <td>237000000</td>\n      <td>[{\"id\": 28, \"name\": \"Action\"}, {\"id\": 12, \"nam...</td>\n      <td>http://www.avatarmovie.com/</td>\n      <td>19995</td>\n      <td>[{\"id\": 1463, \"name\": \"culture clash\"}, {\"id\":...</td>\n      <td>en</td>\n      <td>Avatar</td>\n      <td>In the 22nd century, a paraplegic Marine is di...</td>\n      <td>150.437577</td>\n      <td>[{\"name\": \"Ingenious Film Partners\", \"id\": 289...</td>\n      <td>...</td>\n      <td>162.0</td>\n      <td>[{\"iso_639_1\": \"en\", \"name\": \"English\"}, {\"iso...</td>\n      <td>Released</td>\n      <td>Enter the World of Pandora.</td>\n      <td>Avatar</td>\n      <td>7.2</td>\n      <td>11800</td>\n      <td>Avatar</td>\n      <td>[{\"cast_id\": 242, \"character\": \"Jake Sully\", \"...</td>\n      <td>[{\"credit_id\": \"52fe48009251416c750aca23\", \"de...</td>\n    </tr>\n    <tr>\n      <th>1</th>\n      <td>300000000</td>\n      <td>[{\"id\": 12, \"name\": \"Adventure\"}, {\"id\": 14, \"...</td>\n      <td>http://disney.go.com/disneypictures/pirates/</td>\n      <td>285</td>\n      <td>[{\"id\": 270, \"name\": \"ocean\"}, {\"id\": 726, \"na...</td>\n      <td>en</td>\n      <td>Pirates of the Caribbean: At World's End</td>\n      <td>Captain Barbossa, long believed to be dead, ha...</td>\n      <td>139.082615</td>\n      <td>[{\"name\": \"Walt Disney Pictures\", \"id\": 2}, {\"...</td>\n      <td>...</td>\n      <td>169.0</td>\n      <td>[{\"iso_639_1\": \"en\", \"name\": \"English\"}]</td>\n      <td>Released</td>\n      <td>At the end of the world, the adventure begins.</td>\n      <td>Pirates of the Caribbean: At World's End</td>\n      <td>6.9</td>\n      <td>4500</td>\n      <td>Pirates of the Caribbean: At World's End</td>\n      <td>[{\"cast_id\": 4, \"character\": \"Captain Jack Spa...</td>\n      <td>[{\"credit_id\": \"52fe4232c3a36847f800b579\", \"de...</td>\n    </tr>\n    <tr>\n      <th>2</th>\n      <td>245000000</td>\n      <td>[{\"id\": 28, \"name\": \"Action\"}, {\"id\": 12, \"nam...</td>\n      <td>http://www.sonypictures.com/movies/spectre/</td>\n      <td>206647</td>\n      <td>[{\"id\": 470, \"name\": \"spy\"}, {\"id\": 818, \"name...</td>\n      <td>en</td>\n      <td>Spectre</td>\n      <td>A cryptic message from Bond’s past sends him o...</td>\n      <td>107.376788</td>\n      <td>[{\"name\": \"Columbia Pictures\", \"id\": 5}, {\"nam...</td>\n      <td>...</td>\n      <td>148.0</td>\n      <td>[{\"iso_639_1\": \"fr\", \"name\": \"Fran\\u00e7ais\"},...</td>\n      <td>Released</td>\n      <td>A Plan No One Escapes</td>\n      <td>Spectre</td>\n      <td>6.3</td>\n      <td>4466</td>\n      <td>Spectre</td>\n      <td>[{\"cast_id\": 1, \"character\": \"James Bond\", \"cr...</td>\n      <td>[{\"credit_id\": \"54805967c3a36829b5002c41\", \"de...</td>\n    </tr>\n    <tr>\n      <th>3</th>\n      <td>250000000</td>\n      <td>[{\"id\": 28, \"name\": \"Action\"}, {\"id\": 80, \"nam...</td>\n      <td>http://www.thedarkknightrises.com/</td>\n      <td>49026</td>\n      <td>[{\"id\": 849, \"name\": \"dc comics\"}, {\"id\": 853,...</td>\n      <td>en</td>\n      <td>The Dark Knight Rises</td>\n      <td>Following the death of District Attorney Harve...</td>\n      <td>112.312950</td>\n      <td>[{\"name\": \"Legendary Pictures\", \"id\": 923}, {\"...</td>\n      <td>...</td>\n      <td>165.0</td>\n      <td>[{\"iso_639_1\": \"en\", \"name\": \"English\"}]</td>\n      <td>Released</td>\n      <td>The Legend Ends</td>\n      <td>The Dark Knight Rises</td>\n      <td>7.6</td>\n      <td>9106</td>\n      <td>The Dark Knight Rises</td>\n      <td>[{\"cast_id\": 2, \"character\": \"Bruce Wayne / Ba...</td>\n      <td>[{\"credit_id\": \"52fe4781c3a36847f81398c3\", \"de...</td>\n    </tr>\n    <tr>\n      <th>4</th>\n      <td>260000000</td>\n      <td>[{\"id\": 28, \"name\": \"Action\"}, {\"id\": 12, \"nam...</td>\n      <td>http://movies.disney.com/john-carter</td>\n      <td>49529</td>\n      <td>[{\"id\": 818, \"name\": \"based on novel\"}, {\"id\":...</td>\n      <td>en</td>\n      <td>John Carter</td>\n      <td>John Carter is a war-weary, former military ca...</td>\n      <td>43.926995</td>\n      <td>[{\"name\": \"Walt Disney Pictures\", \"id\": 2}]</td>\n      <td>...</td>\n      <td>132.0</td>\n      <td>[{\"iso_639_1\": \"en\", \"name\": \"English\"}]</td>\n      <td>Released</td>\n      <td>Lost in our world, found in another.</td>\n      <td>John Carter</td>\n      <td>6.1</td>\n      <td>2124</td>\n      <td>John Carter</td>\n      <td>[{\"cast_id\": 5, \"character\": \"John Carter\", \"c...</td>\n      <td>[{\"credit_id\": \"52fe479ac3a36847f813eaa3\", \"de...</td>\n    </tr>\n  </tbody>\n</table>\n<p>5 rows × 23 columns</p>\n</div>"
     },
     "execution_count": 157,
     "metadata": {},
     "output_type": "execute_result"
    }
   ],
   "source": [
    "# merging two different data frame and storing it to a separate variable\n",
    "from pipelines import merge_data_frame\n",
    "df = merge_data_frame.execute(credits_df, movies_df)\n",
    "df.head(5)"
   ],
   "metadata": {
    "collapsed": false,
    "pycharm": {
     "name": "#%%\n"
    }
   }
  },
  {
   "cell_type": "code",
   "execution_count": 158,
   "outputs": [],
   "source": [
    "# remove null values\n",
    "df.isnull().sum()\n",
    "\n",
    "df['homepage'] = df['homepage'].fillna('')\n",
    "df['overview'] = df['overview'].fillna('')\n",
    "df['release_date'] = df['release_date'].fillna('')\n",
    "df['runtime'] = df['runtime'].fillna(0)\n",
    "df['tagline'] = df['tagline'].fillna('')"
   ],
   "metadata": {
    "collapsed": false,
    "pycharm": {
     "name": "#%%\n"
    }
   }
  },
  {
   "cell_type": "code",
   "execution_count": 159,
   "outputs": [
    {
     "data": {
      "text/plain": "budget                  0\ngenres                  0\nhomepage                0\nid                      0\nkeywords                0\noriginal_language       0\noriginal_title          0\noverview                0\npopularity              0\nproduction_companies    0\nproduction_countries    0\nrelease_date            0\nrevenue                 0\nruntime                 0\nspoken_languages        0\nstatus                  0\ntagline                 0\ntitle                   0\nvote_average            0\nvote_count              0\ntittle                  0\ncast                    0\ncrew                    0\ndtype: int64"
     },
     "execution_count": 159,
     "metadata": {},
     "output_type": "execute_result"
    }
   ],
   "source": [
    "df.isna().sum()"
   ],
   "metadata": {
    "collapsed": false,
    "pycharm": {
     "name": "#%%\n"
    }
   }
  },
  {
   "cell_type": "markdown",
   "source": [
    "### Demographics Recommendation"
   ],
   "metadata": {
    "collapsed": false,
    "pycharm": {
     "name": "#%% md\n"
    }
   }
  },
  {
   "cell_type": "code",
   "execution_count": 160,
   "outputs": [],
   "source": [
    "from pipelines import prepare_data_based_on_score\n",
    "qualified_movies = prepare_data_based_on_score.execute(df)\n"
   ],
   "metadata": {
    "collapsed": false,
    "pycharm": {
     "name": "#%%\n"
    }
   }
  },
  {
   "cell_type": "code",
   "execution_count": 161,
   "outputs": [
    {
     "data": {
      "text/plain": "(481, 24)"
     },
     "execution_count": 161,
     "metadata": {},
     "output_type": "execute_result"
    }
   ],
   "source": [
    "# check shape\n",
    "qualified_movies.shape"
   ],
   "metadata": {
    "collapsed": false,
    "pycharm": {
     "name": "#%%\n"
    }
   }
  },
  {
   "cell_type": "code",
   "execution_count": 166,
   "outputs": [
    {
     "data": {
      "text/plain": "         budget                                             genres  \\\n0     237000000  [{\"id\": 28, \"name\": \"Action\"}, {\"id\": 12, \"nam...   \n1006   48000000  [{\"id\": 12, \"name\": \"Adventure\"}, {\"id\": 28, \"...   \n7     280000000  [{\"id\": 28, \"name\": \"Action\"}, {\"id\": 12, \"nam...   \n160   145000000  [{\"id\": 14, \"name\": \"Fantasy\"}, {\"id\": 28, \"na...   \n2465   19000000  [{\"id\": 14, \"name\": \"Fantasy\"}, {\"id\": 18, \"na...   \n...         ...                                                ...   \n911    50000000  [{\"id\": 80, \"name\": \"Crime\"}, {\"id\": 35, \"name...   \n2071   21000000  [{\"id\": 18, \"name\": \"Drama\"}, {\"id\": 35, \"name...   \n400    85000000  [{\"id\": 12, \"name\": \"Adventure\"}, {\"id\": 28, \"...   \n204   125000000  [{\"id\": 28, \"name\": \"Action\"}, {\"id\": 53, \"nam...   \n1     300000000  [{\"id\": 12, \"name\": \"Adventure\"}, {\"id\": 14, \"...   \n\n                                               homepage      id  \\\n0                           http://www.avatarmovie.com/   19995   \n1006                http://www.indianajones.com/crusade      89   \n7     http://marvel.com/movies/movie/193/avengers_ag...   99861   \n160                http://www.howtotrainyourdragon.com/   82702   \n2465                       http://www.panslabyrinth.com    1417   \n...                                                 ...     ...   \n911                    http://www.22jumpstreetmovie.com  187017   \n2071             http://silverliningsplaybookmovie.com/   82693   \n400      http://www.thedivergentseries.movie/#divergent  157350   \n204   http://www.watchvideoseries.com/movies/fast-fi...   51497   \n1          http://disney.go.com/disneypictures/pirates/     285   \n\n                                               keywords original_language  \\\n0     [{\"id\": 1463, \"name\": \"culture clash\"}, {\"id\":...                en   \n1006  [{\"id\": 83, \"name\": \"saving the world\"}, {\"id\"...                en   \n7     [{\"id\": 8828, \"name\": \"marvel comic\"}, {\"id\": ...                en   \n160   [{\"id\": 494, \"name\": \"father son relationship\"...                en   \n2465  [{\"id\": 514, \"name\": \"spain\"}, {\"id\": 836, \"na...                es   \n...                                                 ...               ...   \n911   [{\"id\": 6270, \"name\": \"high school\"}, {\"id\": 1...                en   \n2071  [{\"id\": 246, \"name\": \"dancing\"}, {\"id\": 276, \"...                en   \n400   [{\"id\": 818, \"name\": \"based on novel\"}, {\"id\":...                en   \n204   [{\"id\": 1161, \"name\": \"brazil\"}, {\"id\": 1812, ...                en   \n1     [{\"id\": 270, \"name\": \"ocean\"}, {\"id\": 726, \"na...                en   \n\n                                original_title  \\\n0                                       Avatar   \n1006        Indiana Jones and the Last Crusade   \n7                      Avengers: Age of Ultron   \n160                 How to Train Your Dragon 2   \n2465                    El laberinto del fauno   \n...                                        ...   \n911                             22 Jump Street   \n2071                   Silver Linings Playbook   \n400                                  Divergent   \n204                                  Fast Five   \n1     Pirates of the Caribbean: At World's End   \n\n                                               overview  popularity  \\\n0     In the 22nd century, a paraplegic Marine is di...  150.437577   \n1006  When Dr. Henry Jones Sr. suddenly goes missing...   80.972475   \n7     When Tony Stark tries to jumpstart a dormant p...  134.279229   \n160   The thrilling second chapter of the epic How T...  100.213910   \n2465  Living with her tyrannical stepfather in a new...   90.809408   \n...                                                 ...         ...   \n911   After making their way through high school (tw...   52.380982   \n2071  After spending eight months in a mental instit...   63.599973   \n400   In a world divided into factions based on pers...   80.316463   \n204   Former cop Brian O'Conner partners with ex-con...    7.255718   \n1     Captain Barbossa, long believed to be dead, ha...  139.082615   \n\n                                   production_companies  ...  \\\n0     [{\"name\": \"Ingenious Film Partners\", \"id\": 289...  ...   \n1006  [{\"name\": \"Lucasfilm\", \"id\": 1}, {\"name\": \"Par...  ...   \n7     [{\"name\": \"Marvel Studios\", \"id\": 420}, {\"name...  ...   \n160   [{\"name\": \"DreamWorks Animation\", \"id\": 521}, ...  ...   \n2465  [{\"name\": \"Estudios Picasso\", \"id\": 2029}, {\"n...  ...   \n...                                                 ...  ...   \n911   [{\"name\": \"Columbia Pictures\", \"id\": 5}, {\"nam...  ...   \n2071     [{\"name\": \"The Weinstein Company\", \"id\": 308}]  ...   \n400   [{\"name\": \"Summit Entertainment\", \"id\": 491}, ...  ...   \n204   [{\"name\": \"Universal Pictures\", \"id\": 33}, {\"n...  ...   \n1     [{\"name\": \"Walt Disney Pictures\", \"id\": 2}, {\"...  ...   \n\n                                       spoken_languages    status  \\\n0     [{\"iso_639_1\": \"en\", \"name\": \"English\"}, {\"iso...  Released   \n1006  [{\"iso_639_1\": \"de\", \"name\": \"Deutsch\"}, {\"iso...  Released   \n7              [{\"iso_639_1\": \"en\", \"name\": \"English\"}]  Released   \n160            [{\"iso_639_1\": \"en\", \"name\": \"English\"}]  Released   \n2465      [{\"iso_639_1\": \"es\", \"name\": \"Espa\\u00f1ol\"}]  Released   \n...                                                 ...       ...   \n911            [{\"iso_639_1\": \"en\", \"name\": \"English\"}]  Released   \n2071           [{\"iso_639_1\": \"en\", \"name\": \"English\"}]  Released   \n400            [{\"iso_639_1\": \"en\", \"name\": \"English\"}]  Released   \n204   [{\"iso_639_1\": \"en\", \"name\": \"English\"}, {\"iso...  Released   \n1              [{\"iso_639_1\": \"en\", \"name\": \"English\"}]  Released   \n\n                                                tagline  \\\n0                           Enter the World of Pandora.   \n1006  The man with the hat is back. And this time, h...   \n7                                   A New Age Has Come.   \n160                               The training is over.   \n2465  What happens when make-believe believes it's r...   \n...                                                 ...   \n911                              They're not 21 anymore   \n2071                                Watch For The Signs   \n400       What makes you different makes you dangerous.   \n204                                 Get the Fifth Gear.   \n1        At the end of the world, the adventure begins.   \n\n                                         title vote_average vote_count  \\\n0                                       Avatar          7.2      11800   \n1006        Indiana Jones and the Last Crusade          7.6       3152   \n7                      Avengers: Age of Ultron          7.3       6767   \n160                 How to Train Your Dragon 2          7.6       3106   \n2465                           Pan's Labyrinth          7.6       3041   \n...                                        ...          ...        ...   \n911                             22 Jump Street          7.0       3319   \n2071                   Silver Linings Playbook          6.9       4742   \n400                                  Divergent          6.9       4663   \n204                                  Fast Five          7.1       2438   \n1     Pirates of the Caribbean: At World's End          6.9       4500   \n\n                                        tittle  \\\n0                                       Avatar   \n1006        Indiana Jones and the Last Crusade   \n7                      Avengers: Age of Ultron   \n160                 How to Train Your Dragon 2   \n2465                           Pan's Labyrinth   \n...                                        ...   \n911                             22 Jump Street   \n2071                   Silver Linings Playbook   \n400                                  Divergent   \n204                                  Fast Five   \n1     Pirates of the Caribbean: At World's End   \n\n                                                   cast  \\\n0     [{\"cast_id\": 242, \"character\": \"Jake Sully\", \"...   \n1006  [{\"cast_id\": 8, \"character\": \"Indiana Jones\", ...   \n7     [{\"cast_id\": 76, \"character\": \"Tony Stark / Ir...   \n160   [{\"cast_id\": 13, \"character\": \"Hiccup (voice)\"...   \n2465  [{\"cast_id\": 1, \"character\": \"Ofelia\", \"credit...   \n...                                                 ...   \n911   [{\"cast_id\": 6, \"character\": \"Schmidt\", \"credi...   \n2071  [{\"cast_id\": 31, \"character\": \"Pat Solitano, J...   \n400   [{\"cast_id\": 3, \"character\": \"Beatrice \\\"Tris\\...   \n204   [{\"cast_id\": 2, \"character\": \"Dominic Toretto\"...   \n1     [{\"cast_id\": 4, \"character\": \"Captain Jack Spa...   \n\n                                                   crew     score  \n0     [{\"credit_id\": \"52fe48009251416c750aca23\", \"de...  7.050669  \n1006  [{\"credit_id\": \"52fe4216c3a36847f8002e01\", \"de...  7.044535  \n7     [{\"credit_id\": \"55d5f7d4c3a3683e7e0016eb\", \"de...  7.041968  \n160   [{\"credit_id\": \"544b088f0e0a26747c00556f\", \"de...  7.039367  \n2465  [{\"credit_id\": \"571025c09251410832001052\", \"de...  7.031899  \n...                                                 ...       ...  \n911   [{\"credit_id\": \"5635fa64925141284c01a325\", \"de...  6.676397  \n2071  [{\"credit_id\": \"52fe486b9251416c9108be0d\", \"de...  6.674313  \n400   [{\"credit_id\": \"53cf6e4e0e0a265ded00920e\", \"de...  6.671570  \n204   [{\"credit_id\": \"52fe47f6c3a36847f8151b0f\", \"de...  6.666740  \n1     [{\"credit_id\": \"52fe4232c3a36847f800b579\", \"de...  6.665696  \n\n[118 rows x 24 columns]",
      "text/html": "<div>\n<style scoped>\n    .dataframe tbody tr th:only-of-type {\n        vertical-align: middle;\n    }\n\n    .dataframe tbody tr th {\n        vertical-align: top;\n    }\n\n    .dataframe thead th {\n        text-align: right;\n    }\n</style>\n<table border=\"1\" class=\"dataframe\">\n  <thead>\n    <tr style=\"text-align: right;\">\n      <th></th>\n      <th>budget</th>\n      <th>genres</th>\n      <th>homepage</th>\n      <th>id</th>\n      <th>keywords</th>\n      <th>original_language</th>\n      <th>original_title</th>\n      <th>overview</th>\n      <th>popularity</th>\n      <th>production_companies</th>\n      <th>...</th>\n      <th>spoken_languages</th>\n      <th>status</th>\n      <th>tagline</th>\n      <th>title</th>\n      <th>vote_average</th>\n      <th>vote_count</th>\n      <th>tittle</th>\n      <th>cast</th>\n      <th>crew</th>\n      <th>score</th>\n    </tr>\n  </thead>\n  <tbody>\n    <tr>\n      <th>0</th>\n      <td>237000000</td>\n      <td>[{\"id\": 28, \"name\": \"Action\"}, {\"id\": 12, \"nam...</td>\n      <td>http://www.avatarmovie.com/</td>\n      <td>19995</td>\n      <td>[{\"id\": 1463, \"name\": \"culture clash\"}, {\"id\":...</td>\n      <td>en</td>\n      <td>Avatar</td>\n      <td>In the 22nd century, a paraplegic Marine is di...</td>\n      <td>150.437577</td>\n      <td>[{\"name\": \"Ingenious Film Partners\", \"id\": 289...</td>\n      <td>...</td>\n      <td>[{\"iso_639_1\": \"en\", \"name\": \"English\"}, {\"iso...</td>\n      <td>Released</td>\n      <td>Enter the World of Pandora.</td>\n      <td>Avatar</td>\n      <td>7.2</td>\n      <td>11800</td>\n      <td>Avatar</td>\n      <td>[{\"cast_id\": 242, \"character\": \"Jake Sully\", \"...</td>\n      <td>[{\"credit_id\": \"52fe48009251416c750aca23\", \"de...</td>\n      <td>7.050669</td>\n    </tr>\n    <tr>\n      <th>1006</th>\n      <td>48000000</td>\n      <td>[{\"id\": 12, \"name\": \"Adventure\"}, {\"id\": 28, \"...</td>\n      <td>http://www.indianajones.com/crusade</td>\n      <td>89</td>\n      <td>[{\"id\": 83, \"name\": \"saving the world\"}, {\"id\"...</td>\n      <td>en</td>\n      <td>Indiana Jones and the Last Crusade</td>\n      <td>When Dr. Henry Jones Sr. suddenly goes missing...</td>\n      <td>80.972475</td>\n      <td>[{\"name\": \"Lucasfilm\", \"id\": 1}, {\"name\": \"Par...</td>\n      <td>...</td>\n      <td>[{\"iso_639_1\": \"de\", \"name\": \"Deutsch\"}, {\"iso...</td>\n      <td>Released</td>\n      <td>The man with the hat is back. And this time, h...</td>\n      <td>Indiana Jones and the Last Crusade</td>\n      <td>7.6</td>\n      <td>3152</td>\n      <td>Indiana Jones and the Last Crusade</td>\n      <td>[{\"cast_id\": 8, \"character\": \"Indiana Jones\", ...</td>\n      <td>[{\"credit_id\": \"52fe4216c3a36847f8002e01\", \"de...</td>\n      <td>7.044535</td>\n    </tr>\n    <tr>\n      <th>7</th>\n      <td>280000000</td>\n      <td>[{\"id\": 28, \"name\": \"Action\"}, {\"id\": 12, \"nam...</td>\n      <td>http://marvel.com/movies/movie/193/avengers_ag...</td>\n      <td>99861</td>\n      <td>[{\"id\": 8828, \"name\": \"marvel comic\"}, {\"id\": ...</td>\n      <td>en</td>\n      <td>Avengers: Age of Ultron</td>\n      <td>When Tony Stark tries to jumpstart a dormant p...</td>\n      <td>134.279229</td>\n      <td>[{\"name\": \"Marvel Studios\", \"id\": 420}, {\"name...</td>\n      <td>...</td>\n      <td>[{\"iso_639_1\": \"en\", \"name\": \"English\"}]</td>\n      <td>Released</td>\n      <td>A New Age Has Come.</td>\n      <td>Avengers: Age of Ultron</td>\n      <td>7.3</td>\n      <td>6767</td>\n      <td>Avengers: Age of Ultron</td>\n      <td>[{\"cast_id\": 76, \"character\": \"Tony Stark / Ir...</td>\n      <td>[{\"credit_id\": \"55d5f7d4c3a3683e7e0016eb\", \"de...</td>\n      <td>7.041968</td>\n    </tr>\n    <tr>\n      <th>160</th>\n      <td>145000000</td>\n      <td>[{\"id\": 14, \"name\": \"Fantasy\"}, {\"id\": 28, \"na...</td>\n      <td>http://www.howtotrainyourdragon.com/</td>\n      <td>82702</td>\n      <td>[{\"id\": 494, \"name\": \"father son relationship\"...</td>\n      <td>en</td>\n      <td>How to Train Your Dragon 2</td>\n      <td>The thrilling second chapter of the epic How T...</td>\n      <td>100.213910</td>\n      <td>[{\"name\": \"DreamWorks Animation\", \"id\": 521}, ...</td>\n      <td>...</td>\n      <td>[{\"iso_639_1\": \"en\", \"name\": \"English\"}]</td>\n      <td>Released</td>\n      <td>The training is over.</td>\n      <td>How to Train Your Dragon 2</td>\n      <td>7.6</td>\n      <td>3106</td>\n      <td>How to Train Your Dragon 2</td>\n      <td>[{\"cast_id\": 13, \"character\": \"Hiccup (voice)\"...</td>\n      <td>[{\"credit_id\": \"544b088f0e0a26747c00556f\", \"de...</td>\n      <td>7.039367</td>\n    </tr>\n    <tr>\n      <th>2465</th>\n      <td>19000000</td>\n      <td>[{\"id\": 14, \"name\": \"Fantasy\"}, {\"id\": 18, \"na...</td>\n      <td>http://www.panslabyrinth.com</td>\n      <td>1417</td>\n      <td>[{\"id\": 514, \"name\": \"spain\"}, {\"id\": 836, \"na...</td>\n      <td>es</td>\n      <td>El laberinto del fauno</td>\n      <td>Living with her tyrannical stepfather in a new...</td>\n      <td>90.809408</td>\n      <td>[{\"name\": \"Estudios Picasso\", \"id\": 2029}, {\"n...</td>\n      <td>...</td>\n      <td>[{\"iso_639_1\": \"es\", \"name\": \"Espa\\u00f1ol\"}]</td>\n      <td>Released</td>\n      <td>What happens when make-believe believes it's r...</td>\n      <td>Pan's Labyrinth</td>\n      <td>7.6</td>\n      <td>3041</td>\n      <td>Pan's Labyrinth</td>\n      <td>[{\"cast_id\": 1, \"character\": \"Ofelia\", \"credit...</td>\n      <td>[{\"credit_id\": \"571025c09251410832001052\", \"de...</td>\n      <td>7.031899</td>\n    </tr>\n    <tr>\n      <th>...</th>\n      <td>...</td>\n      <td>...</td>\n      <td>...</td>\n      <td>...</td>\n      <td>...</td>\n      <td>...</td>\n      <td>...</td>\n      <td>...</td>\n      <td>...</td>\n      <td>...</td>\n      <td>...</td>\n      <td>...</td>\n      <td>...</td>\n      <td>...</td>\n      <td>...</td>\n      <td>...</td>\n      <td>...</td>\n      <td>...</td>\n      <td>...</td>\n      <td>...</td>\n      <td>...</td>\n    </tr>\n    <tr>\n      <th>911</th>\n      <td>50000000</td>\n      <td>[{\"id\": 80, \"name\": \"Crime\"}, {\"id\": 35, \"name...</td>\n      <td>http://www.22jumpstreetmovie.com</td>\n      <td>187017</td>\n      <td>[{\"id\": 6270, \"name\": \"high school\"}, {\"id\": 1...</td>\n      <td>en</td>\n      <td>22 Jump Street</td>\n      <td>After making their way through high school (tw...</td>\n      <td>52.380982</td>\n      <td>[{\"name\": \"Columbia Pictures\", \"id\": 5}, {\"nam...</td>\n      <td>...</td>\n      <td>[{\"iso_639_1\": \"en\", \"name\": \"English\"}]</td>\n      <td>Released</td>\n      <td>They're not 21 anymore</td>\n      <td>22 Jump Street</td>\n      <td>7.0</td>\n      <td>3319</td>\n      <td>22 Jump Street</td>\n      <td>[{\"cast_id\": 6, \"character\": \"Schmidt\", \"credi...</td>\n      <td>[{\"credit_id\": \"5635fa64925141284c01a325\", \"de...</td>\n      <td>6.676397</td>\n    </tr>\n    <tr>\n      <th>2071</th>\n      <td>21000000</td>\n      <td>[{\"id\": 18, \"name\": \"Drama\"}, {\"id\": 35, \"name...</td>\n      <td>http://silverliningsplaybookmovie.com/</td>\n      <td>82693</td>\n      <td>[{\"id\": 246, \"name\": \"dancing\"}, {\"id\": 276, \"...</td>\n      <td>en</td>\n      <td>Silver Linings Playbook</td>\n      <td>After spending eight months in a mental instit...</td>\n      <td>63.599973</td>\n      <td>[{\"name\": \"The Weinstein Company\", \"id\": 308}]</td>\n      <td>...</td>\n      <td>[{\"iso_639_1\": \"en\", \"name\": \"English\"}]</td>\n      <td>Released</td>\n      <td>Watch For The Signs</td>\n      <td>Silver Linings Playbook</td>\n      <td>6.9</td>\n      <td>4742</td>\n      <td>Silver Linings Playbook</td>\n      <td>[{\"cast_id\": 31, \"character\": \"Pat Solitano, J...</td>\n      <td>[{\"credit_id\": \"52fe486b9251416c9108be0d\", \"de...</td>\n      <td>6.674313</td>\n    </tr>\n    <tr>\n      <th>400</th>\n      <td>85000000</td>\n      <td>[{\"id\": 12, \"name\": \"Adventure\"}, {\"id\": 28, \"...</td>\n      <td>http://www.thedivergentseries.movie/#divergent</td>\n      <td>157350</td>\n      <td>[{\"id\": 818, \"name\": \"based on novel\"}, {\"id\":...</td>\n      <td>en</td>\n      <td>Divergent</td>\n      <td>In a world divided into factions based on pers...</td>\n      <td>80.316463</td>\n      <td>[{\"name\": \"Summit Entertainment\", \"id\": 491}, ...</td>\n      <td>...</td>\n      <td>[{\"iso_639_1\": \"en\", \"name\": \"English\"}]</td>\n      <td>Released</td>\n      <td>What makes you different makes you dangerous.</td>\n      <td>Divergent</td>\n      <td>6.9</td>\n      <td>4663</td>\n      <td>Divergent</td>\n      <td>[{\"cast_id\": 3, \"character\": \"Beatrice \\\"Tris\\...</td>\n      <td>[{\"credit_id\": \"53cf6e4e0e0a265ded00920e\", \"de...</td>\n      <td>6.671570</td>\n    </tr>\n    <tr>\n      <th>204</th>\n      <td>125000000</td>\n      <td>[{\"id\": 28, \"name\": \"Action\"}, {\"id\": 53, \"nam...</td>\n      <td>http://www.watchvideoseries.com/movies/fast-fi...</td>\n      <td>51497</td>\n      <td>[{\"id\": 1161, \"name\": \"brazil\"}, {\"id\": 1812, ...</td>\n      <td>en</td>\n      <td>Fast Five</td>\n      <td>Former cop Brian O'Conner partners with ex-con...</td>\n      <td>7.255718</td>\n      <td>[{\"name\": \"Universal Pictures\", \"id\": 33}, {\"n...</td>\n      <td>...</td>\n      <td>[{\"iso_639_1\": \"en\", \"name\": \"English\"}, {\"iso...</td>\n      <td>Released</td>\n      <td>Get the Fifth Gear.</td>\n      <td>Fast Five</td>\n      <td>7.1</td>\n      <td>2438</td>\n      <td>Fast Five</td>\n      <td>[{\"cast_id\": 2, \"character\": \"Dominic Toretto\"...</td>\n      <td>[{\"credit_id\": \"52fe47f6c3a36847f8151b0f\", \"de...</td>\n      <td>6.666740</td>\n    </tr>\n    <tr>\n      <th>1</th>\n      <td>300000000</td>\n      <td>[{\"id\": 12, \"name\": \"Adventure\"}, {\"id\": 14, \"...</td>\n      <td>http://disney.go.com/disneypictures/pirates/</td>\n      <td>285</td>\n      <td>[{\"id\": 270, \"name\": \"ocean\"}, {\"id\": 726, \"na...</td>\n      <td>en</td>\n      <td>Pirates of the Caribbean: At World's End</td>\n      <td>Captain Barbossa, long believed to be dead, ha...</td>\n      <td>139.082615</td>\n      <td>[{\"name\": \"Walt Disney Pictures\", \"id\": 2}, {\"...</td>\n      <td>...</td>\n      <td>[{\"iso_639_1\": \"en\", \"name\": \"English\"}]</td>\n      <td>Released</td>\n      <td>At the end of the world, the adventure begins.</td>\n      <td>Pirates of the Caribbean: At World's End</td>\n      <td>6.9</td>\n      <td>4500</td>\n      <td>Pirates of the Caribbean: At World's End</td>\n      <td>[{\"cast_id\": 4, \"character\": \"Captain Jack Spa...</td>\n      <td>[{\"credit_id\": \"52fe4232c3a36847f800b579\", \"de...</td>\n      <td>6.665696</td>\n    </tr>\n  </tbody>\n</table>\n<p>118 rows × 24 columns</p>\n</div>"
     },
     "execution_count": 166,
     "metadata": {},
     "output_type": "execute_result"
    }
   ],
   "source": [
    "# check weighted movies created based on score\n",
    "#qualified_movies.head(2)\n",
    "qualified_movies.loc[0:1]\n"
   ],
   "metadata": {
    "collapsed": false,
    "pycharm": {
     "name": "#%%\n"
    }
   }
  }
 ],
 "metadata": {
  "kernelspec": {
   "display_name": "Python 3",
   "language": "python",
   "name": "python3"
  },
  "language_info": {
   "codemirror_mode": {
    "name": "ipython",
    "version": 2
   },
   "file_extension": ".py",
   "mimetype": "text/x-python",
   "name": "python",
   "nbconvert_exporter": "python",
   "pygments_lexer": "ipython2",
   "version": "2.7.6"
  }
 },
 "nbformat": 4,
 "nbformat_minor": 0
}